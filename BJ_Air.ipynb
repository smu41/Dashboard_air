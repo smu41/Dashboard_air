{
 "cells": [
  {
   "cell_type": "code",
   "execution_count": 1,
   "id": "initial_id",
   "metadata": {
    "ExecuteTime": {
     "end_time": "2024-11-15T10:31:56.625290Z",
     "start_time": "2024-11-15T10:31:56.506422Z"
    }
   },
   "outputs": [],
   "source": [
    "import pandas as pd\n",
    "import numpy as np\n",
    "import matplotlib.pyplot as plt\n",
    "import seaborn as sns\n",
    "import warnings \n",
    "from sklearn.experimental import enable_iterative_imputer \n",
    "from sklearn.impute import IterativeImputer\n",
    "\n",
    "warnings.filterwarnings('ignore')"
   ]
  },
  {
   "cell_type": "code",
   "execution_count": 2,
   "id": "608678866b4eb214",
   "metadata": {
    "ExecuteTime": {
     "end_time": "2024-11-06T12:40:47.341880Z",
     "start_time": "2024-11-06T12:40:47.297075Z"
    }
   },
   "outputs": [
    {
     "data": {
      "text/html": [
       "<div>\n",
       "<style scoped>\n",
       "    .dataframe tbody tr th:only-of-type {\n",
       "        vertical-align: middle;\n",
       "    }\n",
       "\n",
       "    .dataframe tbody tr th {\n",
       "        vertical-align: top;\n",
       "    }\n",
       "\n",
       "    .dataframe thead th {\n",
       "        text-align: right;\n",
       "    }\n",
       "</style>\n",
       "<table border=\"1\" class=\"dataframe\">\n",
       "  <thead>\n",
       "    <tr style=\"text-align: right;\">\n",
       "      <th></th>\n",
       "      <th>year</th>\n",
       "      <th>month</th>\n",
       "      <th>day</th>\n",
       "      <th>hour</th>\n",
       "      <th>season</th>\n",
       "      <th>PM_Dongsi</th>\n",
       "      <th>PM_Dongsihuan</th>\n",
       "      <th>PM_Nongzhanguan</th>\n",
       "      <th>PM_US Post</th>\n",
       "      <th>DEWP</th>\n",
       "      <th>HUMI</th>\n",
       "      <th>PRES</th>\n",
       "      <th>TEMP</th>\n",
       "      <th>cbwd</th>\n",
       "      <th>Iws</th>\n",
       "      <th>precipitation</th>\n",
       "      <th>Iprec</th>\n",
       "    </tr>\n",
       "    <tr>\n",
       "      <th>No</th>\n",
       "      <th></th>\n",
       "      <th></th>\n",
       "      <th></th>\n",
       "      <th></th>\n",
       "      <th></th>\n",
       "      <th></th>\n",
       "      <th></th>\n",
       "      <th></th>\n",
       "      <th></th>\n",
       "      <th></th>\n",
       "      <th></th>\n",
       "      <th></th>\n",
       "      <th></th>\n",
       "      <th></th>\n",
       "      <th></th>\n",
       "      <th></th>\n",
       "      <th></th>\n",
       "    </tr>\n",
       "  </thead>\n",
       "  <tbody>\n",
       "    <tr>\n",
       "      <th>1</th>\n",
       "      <td>2010</td>\n",
       "      <td>1</td>\n",
       "      <td>1</td>\n",
       "      <td>0</td>\n",
       "      <td>4</td>\n",
       "      <td>NaN</td>\n",
       "      <td>NaN</td>\n",
       "      <td>NaN</td>\n",
       "      <td>NaN</td>\n",
       "      <td>-21.0</td>\n",
       "      <td>43.0</td>\n",
       "      <td>1021.0</td>\n",
       "      <td>-11.0</td>\n",
       "      <td>NW</td>\n",
       "      <td>1.79</td>\n",
       "      <td>0.0</td>\n",
       "      <td>0.0</td>\n",
       "    </tr>\n",
       "    <tr>\n",
       "      <th>2</th>\n",
       "      <td>2010</td>\n",
       "      <td>1</td>\n",
       "      <td>1</td>\n",
       "      <td>1</td>\n",
       "      <td>4</td>\n",
       "      <td>NaN</td>\n",
       "      <td>NaN</td>\n",
       "      <td>NaN</td>\n",
       "      <td>NaN</td>\n",
       "      <td>-21.0</td>\n",
       "      <td>47.0</td>\n",
       "      <td>1020.0</td>\n",
       "      <td>-12.0</td>\n",
       "      <td>NW</td>\n",
       "      <td>4.92</td>\n",
       "      <td>0.0</td>\n",
       "      <td>0.0</td>\n",
       "    </tr>\n",
       "    <tr>\n",
       "      <th>3</th>\n",
       "      <td>2010</td>\n",
       "      <td>1</td>\n",
       "      <td>1</td>\n",
       "      <td>2</td>\n",
       "      <td>4</td>\n",
       "      <td>NaN</td>\n",
       "      <td>NaN</td>\n",
       "      <td>NaN</td>\n",
       "      <td>NaN</td>\n",
       "      <td>-21.0</td>\n",
       "      <td>43.0</td>\n",
       "      <td>1019.0</td>\n",
       "      <td>-11.0</td>\n",
       "      <td>NW</td>\n",
       "      <td>6.71</td>\n",
       "      <td>0.0</td>\n",
       "      <td>0.0</td>\n",
       "    </tr>\n",
       "    <tr>\n",
       "      <th>4</th>\n",
       "      <td>2010</td>\n",
       "      <td>1</td>\n",
       "      <td>1</td>\n",
       "      <td>3</td>\n",
       "      <td>4</td>\n",
       "      <td>NaN</td>\n",
       "      <td>NaN</td>\n",
       "      <td>NaN</td>\n",
       "      <td>NaN</td>\n",
       "      <td>-21.0</td>\n",
       "      <td>55.0</td>\n",
       "      <td>1019.0</td>\n",
       "      <td>-14.0</td>\n",
       "      <td>NW</td>\n",
       "      <td>9.84</td>\n",
       "      <td>0.0</td>\n",
       "      <td>0.0</td>\n",
       "    </tr>\n",
       "    <tr>\n",
       "      <th>5</th>\n",
       "      <td>2010</td>\n",
       "      <td>1</td>\n",
       "      <td>1</td>\n",
       "      <td>4</td>\n",
       "      <td>4</td>\n",
       "      <td>NaN</td>\n",
       "      <td>NaN</td>\n",
       "      <td>NaN</td>\n",
       "      <td>NaN</td>\n",
       "      <td>-20.0</td>\n",
       "      <td>51.0</td>\n",
       "      <td>1018.0</td>\n",
       "      <td>-12.0</td>\n",
       "      <td>NW</td>\n",
       "      <td>12.97</td>\n",
       "      <td>0.0</td>\n",
       "      <td>0.0</td>\n",
       "    </tr>\n",
       "  </tbody>\n",
       "</table>\n",
       "</div>"
      ],
      "text/plain": [
       "    year  month  day  hour  season  PM_Dongsi  PM_Dongsihuan  PM_Nongzhanguan  \\\n",
       "No                                                                              \n",
       "1   2010      1    1     0       4        NaN            NaN              NaN   \n",
       "2   2010      1    1     1       4        NaN            NaN              NaN   \n",
       "3   2010      1    1     2       4        NaN            NaN              NaN   \n",
       "4   2010      1    1     3       4        NaN            NaN              NaN   \n",
       "5   2010      1    1     4       4        NaN            NaN              NaN   \n",
       "\n",
       "    PM_US Post  DEWP  HUMI    PRES  TEMP cbwd    Iws  precipitation  Iprec  \n",
       "No                                                                          \n",
       "1          NaN -21.0  43.0  1021.0 -11.0   NW   1.79            0.0    0.0  \n",
       "2          NaN -21.0  47.0  1020.0 -12.0   NW   4.92            0.0    0.0  \n",
       "3          NaN -21.0  43.0  1019.0 -11.0   NW   6.71            0.0    0.0  \n",
       "4          NaN -21.0  55.0  1019.0 -14.0   NW   9.84            0.0    0.0  \n",
       "5          NaN -20.0  51.0  1018.0 -12.0   NW  12.97            0.0    0.0  "
      ]
     },
     "execution_count": 2,
     "metadata": {},
     "output_type": "execute_result"
    }
   ],
   "source": [
    "df = pd.read_csv('~/data/Kaggle/BeijingPM20100101_20151231.csv', index_col='No')\n",
    "df.head()"
   ]
  },
  {
   "cell_type": "code",
   "execution_count": 4,
   "id": "2425f843970ca70a",
   "metadata": {
    "ExecuteTime": {
     "end_time": "2024-11-06T12:40:48.217699Z",
     "start_time": "2024-11-06T12:40:48.192498Z"
    }
   },
   "outputs": [
    {
     "data": {
      "text/html": [
       "<div>\n",
       "<style scoped>\n",
       "    .dataframe tbody tr th:only-of-type {\n",
       "        vertical-align: middle;\n",
       "    }\n",
       "\n",
       "    .dataframe tbody tr th {\n",
       "        vertical-align: top;\n",
       "    }\n",
       "\n",
       "    .dataframe thead th {\n",
       "        text-align: right;\n",
       "    }\n",
       "</style>\n",
       "<table border=\"1\" class=\"dataframe\">\n",
       "  <thead>\n",
       "    <tr style=\"text-align: right;\">\n",
       "      <th></th>\n",
       "      <th>count</th>\n",
       "      <th>mean</th>\n",
       "      <th>std</th>\n",
       "      <th>min</th>\n",
       "      <th>25%</th>\n",
       "      <th>50%</th>\n",
       "      <th>75%</th>\n",
       "      <th>max</th>\n",
       "    </tr>\n",
       "  </thead>\n",
       "  <tbody>\n",
       "    <tr>\n",
       "      <th>year</th>\n",
       "      <td>52584.0</td>\n",
       "      <td>2012.499772</td>\n",
       "      <td>1.707485</td>\n",
       "      <td>2010.00</td>\n",
       "      <td>2011.00</td>\n",
       "      <td>2012.00</td>\n",
       "      <td>2014.00</td>\n",
       "      <td>2015.0</td>\n",
       "    </tr>\n",
       "    <tr>\n",
       "      <th>month</th>\n",
       "      <td>52584.0</td>\n",
       "      <td>6.523962</td>\n",
       "      <td>3.448452</td>\n",
       "      <td>1.00</td>\n",
       "      <td>4.00</td>\n",
       "      <td>7.00</td>\n",
       "      <td>10.00</td>\n",
       "      <td>12.0</td>\n",
       "    </tr>\n",
       "    <tr>\n",
       "      <th>day</th>\n",
       "      <td>52584.0</td>\n",
       "      <td>15.726609</td>\n",
       "      <td>8.798896</td>\n",
       "      <td>1.00</td>\n",
       "      <td>8.00</td>\n",
       "      <td>16.00</td>\n",
       "      <td>23.00</td>\n",
       "      <td>31.0</td>\n",
       "    </tr>\n",
       "    <tr>\n",
       "      <th>hour</th>\n",
       "      <td>52584.0</td>\n",
       "      <td>11.500000</td>\n",
       "      <td>6.922252</td>\n",
       "      <td>0.00</td>\n",
       "      <td>5.75</td>\n",
       "      <td>11.50</td>\n",
       "      <td>17.25</td>\n",
       "      <td>23.0</td>\n",
       "    </tr>\n",
       "    <tr>\n",
       "      <th>season</th>\n",
       "      <td>52584.0</td>\n",
       "      <td>2.491100</td>\n",
       "      <td>1.116988</td>\n",
       "      <td>1.00</td>\n",
       "      <td>1.00</td>\n",
       "      <td>2.00</td>\n",
       "      <td>3.00</td>\n",
       "      <td>4.0</td>\n",
       "    </tr>\n",
       "    <tr>\n",
       "      <th>PM_Dongsi</th>\n",
       "      <td>25052.0</td>\n",
       "      <td>89.154439</td>\n",
       "      <td>87.239267</td>\n",
       "      <td>3.00</td>\n",
       "      <td>24.00</td>\n",
       "      <td>64.00</td>\n",
       "      <td>124.00</td>\n",
       "      <td>737.0</td>\n",
       "    </tr>\n",
       "    <tr>\n",
       "      <th>PM_Dongsihuan</th>\n",
       "      <td>20508.0</td>\n",
       "      <td>92.560806</td>\n",
       "      <td>88.027434</td>\n",
       "      <td>3.00</td>\n",
       "      <td>28.00</td>\n",
       "      <td>68.00</td>\n",
       "      <td>127.00</td>\n",
       "      <td>672.0</td>\n",
       "    </tr>\n",
       "    <tr>\n",
       "      <th>PM_Nongzhanguan</th>\n",
       "      <td>24931.0</td>\n",
       "      <td>88.643737</td>\n",
       "      <td>88.041166</td>\n",
       "      <td>3.00</td>\n",
       "      <td>24.00</td>\n",
       "      <td>62.00</td>\n",
       "      <td>122.00</td>\n",
       "      <td>844.0</td>\n",
       "    </tr>\n",
       "    <tr>\n",
       "      <th>PM_US Post</th>\n",
       "      <td>50387.0</td>\n",
       "      <td>95.904241</td>\n",
       "      <td>91.643772</td>\n",
       "      <td>1.00</td>\n",
       "      <td>27.00</td>\n",
       "      <td>69.00</td>\n",
       "      <td>132.00</td>\n",
       "      <td>994.0</td>\n",
       "    </tr>\n",
       "    <tr>\n",
       "      <th>DEWP</th>\n",
       "      <td>52579.0</td>\n",
       "      <td>2.074554</td>\n",
       "      <td>14.222059</td>\n",
       "      <td>-40.00</td>\n",
       "      <td>-10.00</td>\n",
       "      <td>2.00</td>\n",
       "      <td>15.00</td>\n",
       "      <td>28.0</td>\n",
       "    </tr>\n",
       "    <tr>\n",
       "      <th>HUMI</th>\n",
       "      <td>52245.0</td>\n",
       "      <td>54.602421</td>\n",
       "      <td>25.991338</td>\n",
       "      <td>2.00</td>\n",
       "      <td>31.00</td>\n",
       "      <td>55.00</td>\n",
       "      <td>78.00</td>\n",
       "      <td>100.0</td>\n",
       "    </tr>\n",
       "    <tr>\n",
       "      <th>PRES</th>\n",
       "      <td>52245.0</td>\n",
       "      <td>1016.465442</td>\n",
       "      <td>10.295070</td>\n",
       "      <td>991.00</td>\n",
       "      <td>1008.00</td>\n",
       "      <td>1016.00</td>\n",
       "      <td>1025.00</td>\n",
       "      <td>1046.0</td>\n",
       "    </tr>\n",
       "    <tr>\n",
       "      <th>TEMP</th>\n",
       "      <td>52579.0</td>\n",
       "      <td>12.587040</td>\n",
       "      <td>12.098527</td>\n",
       "      <td>-19.00</td>\n",
       "      <td>2.00</td>\n",
       "      <td>14.00</td>\n",
       "      <td>23.00</td>\n",
       "      <td>42.0</td>\n",
       "    </tr>\n",
       "    <tr>\n",
       "      <th>Iws</th>\n",
       "      <td>52579.0</td>\n",
       "      <td>23.261829</td>\n",
       "      <td>49.281706</td>\n",
       "      <td>0.45</td>\n",
       "      <td>1.79</td>\n",
       "      <td>4.92</td>\n",
       "      <td>21.02</td>\n",
       "      <td>585.6</td>\n",
       "    </tr>\n",
       "    <tr>\n",
       "      <th>precipitation</th>\n",
       "      <td>52100.0</td>\n",
       "      <td>19.258683</td>\n",
       "      <td>4381.035532</td>\n",
       "      <td>0.00</td>\n",
       "      <td>0.00</td>\n",
       "      <td>0.00</td>\n",
       "      <td>0.00</td>\n",
       "      <td>999990.0</td>\n",
       "    </tr>\n",
       "    <tr>\n",
       "      <th>Iprec</th>\n",
       "      <td>52100.0</td>\n",
       "      <td>19.519008</td>\n",
       "      <td>4381.036040</td>\n",
       "      <td>0.00</td>\n",
       "      <td>0.00</td>\n",
       "      <td>0.00</td>\n",
       "      <td>0.00</td>\n",
       "      <td>999990.0</td>\n",
       "    </tr>\n",
       "  </tbody>\n",
       "</table>\n",
       "</div>"
      ],
      "text/plain": [
       "                   count         mean          std      min      25%      50%  \\\n",
       "year             52584.0  2012.499772     1.707485  2010.00  2011.00  2012.00   \n",
       "month            52584.0     6.523962     3.448452     1.00     4.00     7.00   \n",
       "day              52584.0    15.726609     8.798896     1.00     8.00    16.00   \n",
       "hour             52584.0    11.500000     6.922252     0.00     5.75    11.50   \n",
       "season           52584.0     2.491100     1.116988     1.00     1.00     2.00   \n",
       "PM_Dongsi        25052.0    89.154439    87.239267     3.00    24.00    64.00   \n",
       "PM_Dongsihuan    20508.0    92.560806    88.027434     3.00    28.00    68.00   \n",
       "PM_Nongzhanguan  24931.0    88.643737    88.041166     3.00    24.00    62.00   \n",
       "PM_US Post       50387.0    95.904241    91.643772     1.00    27.00    69.00   \n",
       "DEWP             52579.0     2.074554    14.222059   -40.00   -10.00     2.00   \n",
       "HUMI             52245.0    54.602421    25.991338     2.00    31.00    55.00   \n",
       "PRES             52245.0  1016.465442    10.295070   991.00  1008.00  1016.00   \n",
       "TEMP             52579.0    12.587040    12.098527   -19.00     2.00    14.00   \n",
       "Iws              52579.0    23.261829    49.281706     0.45     1.79     4.92   \n",
       "precipitation    52100.0    19.258683  4381.035532     0.00     0.00     0.00   \n",
       "Iprec            52100.0    19.519008  4381.036040     0.00     0.00     0.00   \n",
       "\n",
       "                     75%       max  \n",
       "year             2014.00    2015.0  \n",
       "month              10.00      12.0  \n",
       "day                23.00      31.0  \n",
       "hour               17.25      23.0  \n",
       "season              3.00       4.0  \n",
       "PM_Dongsi         124.00     737.0  \n",
       "PM_Dongsihuan     127.00     672.0  \n",
       "PM_Nongzhanguan   122.00     844.0  \n",
       "PM_US Post        132.00     994.0  \n",
       "DEWP               15.00      28.0  \n",
       "HUMI               78.00     100.0  \n",
       "PRES             1025.00    1046.0  \n",
       "TEMP               23.00      42.0  \n",
       "Iws                21.02     585.6  \n",
       "precipitation       0.00  999990.0  \n",
       "Iprec               0.00  999990.0  "
      ]
     },
     "execution_count": 4,
     "metadata": {},
     "output_type": "execute_result"
    }
   ],
   "source": [
    "df.describe().T"
   ]
  },
  {
   "cell_type": "code",
   "execution_count": 5,
   "id": "4991a3689c740599",
   "metadata": {
    "ExecuteTime": {
     "end_time": "2024-11-06T12:40:48.762655Z",
     "start_time": "2024-11-06T12:40:48.755062Z"
    }
   },
   "outputs": [
    {
     "name": "stdout",
     "output_type": "stream",
     "text": [
      "<class 'pandas.core.frame.DataFrame'>\n",
      "Index: 52584 entries, 1 to 52584\n",
      "Data columns (total 17 columns):\n",
      " #   Column           Non-Null Count  Dtype  \n",
      "---  ------           --------------  -----  \n",
      " 0   year             52584 non-null  int64  \n",
      " 1   month            52584 non-null  int64  \n",
      " 2   day              52584 non-null  int64  \n",
      " 3   hour             52584 non-null  int64  \n",
      " 4   season           52584 non-null  int64  \n",
      " 5   PM_Dongsi        25052 non-null  float64\n",
      " 6   PM_Dongsihuan    20508 non-null  float64\n",
      " 7   PM_Nongzhanguan  24931 non-null  float64\n",
      " 8   PM_US Post       50387 non-null  float64\n",
      " 9   DEWP             52579 non-null  float64\n",
      " 10  HUMI             52245 non-null  float64\n",
      " 11  PRES             52245 non-null  float64\n",
      " 12  TEMP             52579 non-null  float64\n",
      " 13  cbwd             52579 non-null  object \n",
      " 14  Iws              52579 non-null  float64\n",
      " 15  precipitation    52100 non-null  float64\n",
      " 16  Iprec            52100 non-null  float64\n",
      "dtypes: float64(11), int64(5), object(1)\n",
      "memory usage: 7.2+ MB\n"
     ]
    }
   ],
   "source": [
    "df.info()"
   ]
  },
  {
   "cell_type": "code",
   "execution_count": 6,
   "id": "a0b1ce28312a28f",
   "metadata": {
    "ExecuteTime": {
     "end_time": "2024-11-06T12:40:49.219512Z",
     "start_time": "2024-11-06T12:40:49.217275Z"
    }
   },
   "outputs": [
    {
     "data": {
      "text/plain": [
       "Index(['year', 'month', 'day', 'hour', 'season', 'PM_Dongsi', 'PM_Dongsihuan',\n",
       "       'PM_Nongzhanguan', 'PM_US Post', 'DEWP', 'HUMI', 'PRES', 'TEMP', 'cbwd',\n",
       "       'Iws', 'precipitation', 'Iprec'],\n",
       "      dtype='object')"
      ]
     },
     "execution_count": 6,
     "metadata": {},
     "output_type": "execute_result"
    }
   ],
   "source": [
    "df.columns"
   ]
  },
  {
   "cell_type": "code",
   "execution_count": 7,
   "id": "61547474158280c6",
   "metadata": {
    "ExecuteTime": {
     "end_time": "2024-11-06T12:40:49.662631Z",
     "start_time": "2024-11-06T12:40:49.657635Z"
    }
   },
   "outputs": [
    {
     "data": {
      "text/plain": [
       "year                0.000000\n",
       "month               0.000000\n",
       "day                 0.000000\n",
       "hour                0.000000\n",
       "season              0.000000\n",
       "PM_Dongsi          52.358132\n",
       "PM_Dongsihuan      60.999544\n",
       "PM_Nongzhanguan    52.588240\n",
       "PM_US Post          4.178077\n",
       "DEWP                0.009509\n",
       "HUMI                0.644683\n",
       "PRES                0.644683\n",
       "TEMP                0.009509\n",
       "cbwd                0.009509\n",
       "Iws                 0.009509\n",
       "precipitation       0.920432\n",
       "Iprec               0.920432\n",
       "dtype: float64"
      ]
     },
     "execution_count": 7,
     "metadata": {},
     "output_type": "execute_result"
    }
   ],
   "source": [
    "df.isna().sum() / df.year.count() * 100"
   ]
  },
  {
   "cell_type": "code",
   "execution_count": 8,
   "id": "13d7f3bc931c2d12",
   "metadata": {
    "ExecuteTime": {
     "end_time": "2024-11-06T12:40:50.158867Z",
     "start_time": "2024-11-06T12:40:50.154729Z"
    }
   },
   "outputs": [
    {
     "data": {
      "text/plain": [
       "np.float64(0.0)"
      ]
     },
     "execution_count": 8,
     "metadata": {},
     "output_type": "execute_result"
    }
   ],
   "source": [
    "df[df.year == 2010].PM_Dongsi.sum()"
   ]
  },
  {
   "cell_type": "code",
   "execution_count": 9,
   "id": "2742d679ab2263cd",
   "metadata": {
    "ExecuteTime": {
     "end_time": "2024-11-06T12:40:50.697657Z",
     "start_time": "2024-11-06T12:40:50.691158Z"
    }
   },
   "outputs": [],
   "source": [
    "df.fillna({'PM_US Post': df['PM_US Post'].mean(), \n",
    "           'precipitation': df['precipitation'].median(), \n",
    "           'Iprec': df['Iprec'].median(), \n",
    "           'DEWP': df['DEWP'].mean(), \n",
    "           'HUMI': df['HUMI'].mean(), \n",
    "           'PRES': df['PRES'].mean(), \n",
    "           'TEMP': df['TEMP'].mean()}, inplace=True)"
   ]
  },
  {
   "cell_type": "code",
   "execution_count": 10,
   "id": "9a9b425bf4602e82",
   "metadata": {
    "ExecuteTime": {
     "end_time": "2024-11-06T12:40:55.134186Z",
     "start_time": "2024-11-06T12:40:55.124385Z"
    }
   },
   "outputs": [],
   "source": [
    "df.fillna({'cbwd': 'cv', 'Iws': df.Iws.mode()}, inplace=True)"
   ]
  },
  {
   "cell_type": "code",
   "execution_count": 11,
   "id": "568df2fd97c65c6a",
   "metadata": {
    "ExecuteTime": {
     "end_time": "2024-11-06T12:40:56.657989Z",
     "start_time": "2024-11-06T12:40:56.653654Z"
    }
   },
   "outputs": [],
   "source": [
    "df.fillna({'Iws': float(df['Iws'].mode())}, inplace=True)"
   ]
  },
  {
   "cell_type": "code",
   "execution_count": 12,
   "id": "221c480eadab9220",
   "metadata": {
    "ExecuteTime": {
     "end_time": "2024-11-06T12:40:58.044381Z",
     "start_time": "2024-11-06T12:40:58.038033Z"
    }
   },
   "outputs": [
    {
     "data": {
      "text/plain": [
       "year                0.000000\n",
       "month               0.000000\n",
       "day                 0.000000\n",
       "hour                0.000000\n",
       "season              0.000000\n",
       "PM_Dongsi          52.358132\n",
       "PM_Dongsihuan      60.999544\n",
       "PM_Nongzhanguan    52.588240\n",
       "PM_US Post          0.000000\n",
       "DEWP                0.000000\n",
       "HUMI                0.000000\n",
       "PRES                0.000000\n",
       "TEMP                0.000000\n",
       "cbwd                0.000000\n",
       "Iws                 0.000000\n",
       "precipitation       0.000000\n",
       "Iprec               0.000000\n",
       "dtype: float64"
      ]
     },
     "execution_count": 12,
     "metadata": {},
     "output_type": "execute_result"
    }
   ],
   "source": [
    "df.isna().sum() / df.year.count() * 100"
   ]
  },
  {
   "cell_type": "code",
   "execution_count": 25,
   "id": "3c2f6acf83996e37",
   "metadata": {
    "ExecuteTime": {
     "end_time": "2024-11-06T13:34:11.990856Z",
     "start_time": "2024-11-06T13:34:11.952779Z"
    }
   },
   "outputs": [
    {
     "ename": "TypeError",
     "evalue": "only length-1 arrays can be converted to Python scalars",
     "output_type": "error",
     "traceback": [
      "\u001b[0;31m---------------------------------------------------------------------------\u001b[0m",
      "\u001b[0;31mTypeError\u001b[0m                                 Traceback (most recent call last)",
      "Cell \u001b[0;32mIn[25], line 3\u001b[0m\n\u001b[1;32m      1\u001b[0m miss \u001b[38;5;241m=\u001b[39m df[[\u001b[38;5;124m'\u001b[39m\u001b[38;5;124mPM_Dongsi\u001b[39m\u001b[38;5;124m'\u001b[39m, \u001b[38;5;124m'\u001b[39m\u001b[38;5;124mPM_Dongsihuan\u001b[39m\u001b[38;5;124m'\u001b[39m, \u001b[38;5;124m'\u001b[39m\u001b[38;5;124mPM_Nongzhanguan\u001b[39m\u001b[38;5;124m'\u001b[39m, \u001b[38;5;124m'\u001b[39m\u001b[38;5;124mPM_US Post\u001b[39m\u001b[38;5;124m'\u001b[39m]]\n\u001b[1;32m      2\u001b[0m imputer \u001b[38;5;241m=\u001b[39m IterativeImputer(random_state\u001b[38;5;241m=\u001b[39m\u001b[38;5;241m42\u001b[39m)\n\u001b[0;32m----> 3\u001b[0m df[[\u001b[38;5;124m'\u001b[39m\u001b[38;5;124mPM_Dongsi\u001b[39m\u001b[38;5;124m'\u001b[39m, \u001b[38;5;124m'\u001b[39m\u001b[38;5;124mPM_Dongsihuan\u001b[39m\u001b[38;5;124m'\u001b[39m, \u001b[38;5;124m'\u001b[39m\u001b[38;5;124mPM_Nongzhanguan\u001b[39m\u001b[38;5;124m'\u001b[39m, \u001b[38;5;124m'\u001b[39m\u001b[38;5;124mPM_US Post\u001b[39m\u001b[38;5;124m'\u001b[39m]] \u001b[38;5;241m=\u001b[39m \u001b[38;5;28;43mint\u001b[39;49m\u001b[43m(\u001b[49m\u001b[43mimputer\u001b[49m\u001b[38;5;241;43m.\u001b[39;49m\u001b[43mfit_transform\u001b[49m\u001b[43m(\u001b[49m\u001b[43mmiss\u001b[49m\u001b[43m)\u001b[49m\u001b[43m)\u001b[49m\n",
      "\u001b[0;31mTypeError\u001b[0m: only length-1 arrays can be converted to Python scalars"
     ]
    }
   ],
   "source": [
    "miss = df[['PM_Dongsi', 'PM_Dongsihuan', 'PM_Nongzhanguan', 'PM_US Post']]\n",
    "imputer = IterativeImputer(random_state=42)\n",
    "df[['PM_Dongsi', 'PM_Dongsihuan', 'PM_Nongzhanguan', 'PM_US Post']] = imputer.fit_transform(miss)"
   ]
  },
  {
   "cell_type": "code",
   "execution_count": 24,
   "id": "a3fcbaf2b8fad78",
   "metadata": {
    "ExecuteTime": {
     "end_time": "2024-11-06T13:25:33.723969Z",
     "start_time": "2024-11-06T13:25:33.521492Z"
    }
   },
   "outputs": [],
   "source": [
    "df.to_csv('~/data/Kaggle/BeijingPM.csv')"
   ]
  },
  {
   "cell_type": "code",
   "execution_count": 22,
   "id": "e28913a3cacbaaab",
   "metadata": {
    "ExecuteTime": {
     "end_time": "2024-11-06T13:21:36.537708Z",
     "start_time": "2024-11-06T13:21:36.154265Z"
    }
   },
   "outputs": [
    {
     "data": {
      "text/plain": [
       "<Axes: xlabel='PM_Dongsi'>"
      ]
     },
     "execution_count": 22,
     "metadata": {},
     "output_type": "execute_result"
    },
    {
     "data": {
      "image/png": "[encoded data removed]",
      "text/plain": [
       "<Figure size 640x480 with 1 Axes>"
      ]
     },
     "metadata": {},
     "output_type": "display_data"
    }
   ],
   "source": [
    "sns.barplot(hue='year', x='PM_Dongsi' , data=df)"
   ]
  },
  {
   "cell_type": "code",
   "execution_count": 23,
   "id": "21419a6da324257f",
   "metadata": {
    "ExecuteTime": {
     "end_time": "2024-11-06T13:22:39.725054Z",
     "start_time": "2024-11-06T13:22:39.650828Z"
    }
   },
   "outputs": [
    {
     "data": {
      "image/png": "[encoded data removed]",
      "text/plain": [
       "<Figure size 640x480 with 1 Axes>"
      ]
     },
     "metadata": {},
     "output_type": "display_data"
    }
   ],
   "source": [
    "df.groupby('year')[['PM_Dongsi', 'PM_Dongsihuan', 'PM_Nongzhanguan', 'PM_US Post']].mean().plot(kind='bar')\n",
    "# plt.legend()\n",
    "plt.show()"
   ]
  },
  {
   "cell_type": "code",
   "execution_count": 25,
   "id": "ba279ade4322bd91",
   "metadata": {
    "ExecuteTime": {
     "end_time": "2024-11-03T07:55:37.818801Z",
     "start_time": "2024-11-03T07:55:37.724474Z"
    }
   },
   "outputs": [
    {
     "data": {
      "image/png": "[encoded data removed]",
      "text/plain": [
       "<Figure size 640x480 with 1 Axes>"
      ]
     },
     "metadata": {},
     "output_type": "display_data"
    }
   ],
   "source": [
    "df.groupby('month')[['PM_Dongsi', 'PM_Dongsihuan', 'PM_Nongzhanguan', 'PM_US Post']].mean().plot(kind='bar')\n",
    "# plt.legend()\n",
    "plt.show()"
   ]
  },
  {
   "cell_type": "code",
   "execution_count": 35,
   "id": "e20cf140284be877",
   "metadata": {
    "ExecuteTime": {
     "end_time": "2024-11-03T08:04:49.868277Z",
     "start_time": "2024-11-03T08:04:49.763443Z"
    }
   },
   "outputs": [
    {
     "data": {
      "text/plain": [
       "<Axes: xlabel='month'>"
      ]
     },
     "execution_count": 35,
     "metadata": {},
     "output_type": "execute_result"
    },
    {
     "data": {
      "image/png": "[encoded data removed]",
      "text/plain": [
       "<Figure size 640x480 with 1 Axes>"
      ]
     },
     "metadata": {},
     "output_type": "display_data"
    }
   ],
   "source": [
    "df[df.year == 2010].groupby('month')[['PM_Dongsi', 'PM_Dongsihuan', 'PM_Nongzhanguan', 'PM_US Post']].mean().plot(kind='bar')"
   ]
  },
  {
   "cell_type": "code",
   "execution_count": 10,
   "id": "1aa76df80458c8e2",
   "metadata": {
    "ExecuteTime": {
     "end_time": "2024-11-04T06:24:33.210968Z",
     "start_time": "2024-11-04T06:24:33.066529Z"
    }
   },
   "outputs": [
    {
     "data": {
      "text/plain": [
       "<Axes: xlabel='PM_US Post', ylabel='Count'>"
      ]
     },
     "execution_count": 10,
     "metadata": {},
     "output_type": "execute_result"
    },
    {
     "data": {
      "image/png": "[encoded data removed]",
      "text/plain": [
       "<Figure size 640x480 with 1 Axes>"
      ]
     },
     "metadata": {},
     "output_type": "display_data"
    }
   ],
   "source": [
    "sns.histplot(df['PM_US Post'])"
   ]
  },
  {
   "cell_type": "code",
   "execution_count": 35,
   "id": "bb8dc4362f6a6673",
   "metadata": {
    "ExecuteTime": {
     "end_time": "2024-11-04T07:00:53.282837Z",
     "start_time": "2024-11-04T07:00:53.278310Z"
    }
   },
   "outputs": [],
   "source": [
    "df.fillna({'PM_US Post': df['PM_US Post'].mean()}, inplace=True)"
   ]
  },
  {
   "cell_type": "code",
   "execution_count": 13,
   "id": "a135e44f08f7e25",
   "metadata": {
    "ExecuteTime": {
     "end_time": "2024-11-04T06:35:08.274814Z",
     "start_time": "2024-11-04T06:35:08.180246Z"
    }
   },
   "outputs": [
    {
     "data": {
      "text/plain": [
       "<Axes: xlabel='Iprec', ylabel='Count'>"
      ]
     },
     "execution_count": 13,
     "metadata": {},
     "output_type": "execute_result"
    },
    {
     "data": {
      "image/png": "[encoded data removed]",
      "text/plain": [
       "<Figure size 640x480 with 1 Axes>"
      ]
     },
     "metadata": {},
     "output_type": "display_data"
    }
   ],
   "source": [
    "sns.histplot(df.Iprec)"
   ]
  },
  {
   "cell_type": "code",
   "execution_count": 17,
   "id": "4ad2bed5f56640c5",
   "metadata": {
    "ExecuteTime": {
     "end_time": "2024-11-04T06:41:45.895565Z",
     "start_time": "2024-11-04T06:41:45.891726Z"
    }
   },
   "outputs": [
    {
     "data": {
      "text/plain": [
       "np.float64(0.0)"
      ]
     },
     "execution_count": 17,
     "metadata": {},
     "output_type": "execute_result"
    }
   ],
   "source": [
    "df.Iprec.median()"
   ]
  },
  {
   "cell_type": "code",
   "execution_count": 14,
   "id": "57d586cfffd8c3f1",
   "metadata": {
    "ExecuteTime": {
     "end_time": "2024-11-04T06:35:45.005147Z",
     "start_time": "2024-11-04T06:35:44.879471Z"
    }
   },
   "outputs": [
    {
     "data": {
      "text/plain": [
       "<Axes: xlabel='precipitation', ylabel='Count'>"
      ]
     },
     "execution_count": 14,
     "metadata": {},
     "output_type": "execute_result"
    },
    {
     "data": {
      "image/png": "[encoded data removed]",
      "text/plain": [
       "<Figure size 640x480 with 1 Axes>"
      ]
     },
     "metadata": {},
     "output_type": "display_data"
    }
   ],
   "source": [
    "sns.histplot(df.precipitation)"
   ]
  },
  {
   "cell_type": "code",
   "execution_count": 45,
   "id": "183e50df7ed942b8",
   "metadata": {
    "ExecuteTime": {
     "end_time": "2024-11-04T07:47:06.946631Z",
     "start_time": "2024-11-04T07:47:06.940916Z"
    }
   },
   "outputs": [
    {
     "data": {
      "text/plain": [
       "cbwd\n",
       "SE    18272\n",
       "NW    16717\n",
       "cv    11417\n",
       "NE     6178\n",
       "Name: count, dtype: int64"
      ]
     },
     "execution_count": 45,
     "metadata": {},
     "output_type": "execute_result"
    }
   ],
   "source": [
    "df.cbwd.value_counts()"
   ]
  },
  {
   "cell_type": "code",
   "execution_count": 41,
   "id": "b304173e61053667",
   "metadata": {
    "ExecuteTime": {
     "end_time": "2024-11-04T07:05:38.489600Z",
     "start_time": "2024-11-04T07:05:38.484234Z"
    }
   },
   "outputs": [
    {
     "data": {
      "text/plain": [
       "Iws\n",
       "0.89      7631\n",
       "1.79      5864\n",
       "3.13      2337\n",
       "1.78      2235\n",
       "4.92      1515\n",
       "          ... \n",
       "105.08       1\n",
       "100.16       1\n",
       "113.98       1\n",
       "67.92        1\n",
       "465.34       1\n",
       "Name: count, Length: 2975, dtype: int64"
      ]
     },
     "execution_count": 41,
     "metadata": {},
     "output_type": "execute_result"
    }
   ],
   "source": [
    "df.Iws.value_counts()"
   ]
  },
  {
   "cell_type": "code",
   "execution_count": 42,
   "id": "7a5c51b09f7888a3",
   "metadata": {
    "ExecuteTime": {
     "end_time": "2024-11-04T07:41:48.842800Z",
     "start_time": "2024-11-04T07:41:48.836553Z"
    }
   },
   "outputs": [],
   "source": [
    "df.fillna({'cbwd': 'None'}, inplace=True)"
   ]
  },
  {
   "cell_type": "code",
   "execution_count": 44,
   "id": "9bf18e39e07077b",
   "metadata": {
    "ExecuteTime": {
     "end_time": "2024-11-04T07:47:01.251402Z",
     "start_time": "2024-11-04T07:47:01.244741Z"
    }
   },
   "outputs": [],
   "source": [
    "df.replace({'cbwd': 'None'}, 'cv', inplace=True)"
   ]
  },
  {
   "cell_type": "code",
   "execution_count": 78,
   "id": "3a9994f6baeda38b",
   "metadata": {
    "ExecuteTime": {
     "end_time": "2024-11-04T08:06:47.719069Z",
     "start_time": "2024-11-04T08:06:47.714330Z"
    }
   },
   "outputs": [
    {
     "data": {
      "text/plain": [
       "No\n",
       "45923   NaN\n",
       "47955   NaN\n",
       "49272   NaN\n",
       "51329   NaN\n",
       "51892   NaN\n",
       "Name: Iws, dtype: float64"
      ]
     },
     "execution_count": 78,
     "metadata": {},
     "output_type": "execute_result"
    }
   ],
   "source": [
    "df.Iws[df.Iws.isna()]"
   ]
  },
  {
   "cell_type": "code",
   "execution_count": 81,
   "id": "e42a1a34f91ea231",
   "metadata": {
    "ExecuteTime": {
     "end_time": "2024-11-04T08:08:36.158993Z",
     "start_time": "2024-11-04T08:08:36.153590Z"
    }
   },
   "outputs": [
    {
     "data": {
      "text/plain": [
       "No\n",
       "45923    NaN\n",
       "47955    NaN\n",
       "49272    NaN\n",
       "51329    NaN\n",
       "51892    NaN\n",
       "Name: cbwd, dtype: object"
      ]
     },
     "execution_count": 81,
     "metadata": {},
     "output_type": "execute_result"
    }
   ],
   "source": [
    "df.cbwd[df.cbwd.isna()]"
   ]
  },
  {
   "cell_type": "code",
   "execution_count": 87,
   "id": "be2e2134c7d24fd2",
   "metadata": {
    "ExecuteTime": {
     "end_time": "2024-11-04T14:44:33.148556Z",
     "start_time": "2024-11-04T14:44:33.140511Z"
    }
   },
   "outputs": [
    {
     "data": {
      "text/plain": [
       "0    0.89\n",
       "Name: Iws, dtype: float64"
      ]
     },
     "execution_count": 87,
     "metadata": {},
     "output_type": "execute_result"
    }
   ],
   "source": [
    "df.Iws[df.cbwd[df.cbwd == 'cv'].index].mode()"
   ]
  },
  {
   "cell_type": "code",
   "execution_count": 2,
   "id": "cdd0dd4a925f919c",
   "metadata": {
    "ExecuteTime": {
     "end_time": "2024-11-15T07:23:45.526128Z",
     "start_time": "2024-11-15T07:23:45.487668Z"
    }
   },
   "outputs": [],
   "source": [
    "df = pd.read_csv('~/data/Kaggle/BeijingPM.csv', index_col='No')"
   ]
  },
  {
   "cell_type": "code",
   "execution_count": 22,
   "id": "39102ab553f69a27",
   "metadata": {
    "ExecuteTime": {
     "end_time": "2024-11-11T15:22:17.879003Z",
     "start_time": "2024-11-11T15:22:17.874174Z"
    }
   },
   "outputs": [],
   "source": [
    "precip = df.groupby(['year', 'month'])['precipitation'].sum()"
   ]
  },
  {
   "cell_type": "code",
   "execution_count": 24,
   "id": "6e1c467300d42d25",
   "metadata": {
    "ExecuteTime": {
     "end_time": "2024-11-11T15:38:50.021058Z",
     "start_time": "2024-11-11T15:38:50.018379Z"
    }
   },
   "outputs": [],
   "source": [
    "precip = pd.DataFrame(precip)\n",
    "precip = precip.reset_index(['year', 'month'])"
   ]
  },
  {
   "cell_type": "code",
   "execution_count": 42,
   "id": "87edff6bafd0295f",
   "metadata": {
    "ExecuteTime": {
     "end_time": "2024-11-11T16:00:08.545493Z",
     "start_time": "2024-11-11T16:00:08.475366Z"
    }
   },
   "outputs": [
    {
     "data": {
      "text/plain": [
       "<Axes: xlabel='month', ylabel='precipitation'>"
      ]
     },
     "execution_count": 42,
     "metadata": {},
     "output_type": "execute_result"
    },
    {
     "data": {
      "image/png": "[encoded data removed]",
      "text/plain": [
       "<Figure size 640x480 with 1 Axes>"
      ]
     },
     "metadata": {},
     "output_type": "display_data"
    }
   ],
   "source": [
    "sns.lineplot(x='month', y=precip[precip.year==2011].precipitation, data=precip)"
   ]
  },
  {
   "cell_type": "code",
   "execution_count": 39,
   "id": "29bcf34144282129",
   "metadata": {
    "ExecuteTime": {
     "end_time": "2024-11-11T15:58:53.418619Z",
     "start_time": "2024-11-11T15:58:53.413937Z"
    }
   },
   "outputs": [
    {
     "data": {
      "text/html": [
       "<div>\n",
       "<style scoped>\n",
       "    .dataframe tbody tr th:only-of-type {\n",
       "        vertical-align: middle;\n",
       "    }\n",
       "\n",
       "    .dataframe tbody tr th {\n",
       "        vertical-align: top;\n",
       "    }\n",
       "\n",
       "    .dataframe thead th {\n",
       "        text-align: right;\n",
       "    }\n",
       "</style>\n",
       "<table border=\"1\" class=\"dataframe\">\n",
       "  <thead>\n",
       "    <tr style=\"text-align: right;\">\n",
       "      <th></th>\n",
       "      <th>year</th>\n",
       "      <th>month</th>\n",
       "      <th>precipitation</th>\n",
       "    </tr>\n",
       "  </thead>\n",
       "  <tbody>\n",
       "    <tr>\n",
       "      <th>0</th>\n",
       "      <td>2010</td>\n",
       "      <td>1</td>\n",
       "      <td>11.2</td>\n",
       "    </tr>\n",
       "    <tr>\n",
       "      <th>1</th>\n",
       "      <td>2010</td>\n",
       "      <td>2</td>\n",
       "      <td>5.2</td>\n",
       "    </tr>\n",
       "    <tr>\n",
       "      <th>2</th>\n",
       "      <td>2010</td>\n",
       "      <td>3</td>\n",
       "      <td>23.2</td>\n",
       "    </tr>\n",
       "    <tr>\n",
       "      <th>3</th>\n",
       "      <td>2010</td>\n",
       "      <td>4</td>\n",
       "      <td>19.9</td>\n",
       "    </tr>\n",
       "    <tr>\n",
       "      <th>4</th>\n",
       "      <td>2010</td>\n",
       "      <td>5</td>\n",
       "      <td>50.3</td>\n",
       "    </tr>\n",
       "    <tr>\n",
       "      <th>5</th>\n",
       "      <td>2010</td>\n",
       "      <td>6</td>\n",
       "      <td>35.6</td>\n",
       "    </tr>\n",
       "    <tr>\n",
       "      <th>6</th>\n",
       "      <td>2010</td>\n",
       "      <td>7</td>\n",
       "      <td>70.9</td>\n",
       "    </tr>\n",
       "    <tr>\n",
       "      <th>7</th>\n",
       "      <td>2010</td>\n",
       "      <td>8</td>\n",
       "      <td>110.3</td>\n",
       "    </tr>\n",
       "    <tr>\n",
       "      <th>8</th>\n",
       "      <td>2010</td>\n",
       "      <td>9</td>\n",
       "      <td>69.3</td>\n",
       "    </tr>\n",
       "    <tr>\n",
       "      <th>9</th>\n",
       "      <td>2010</td>\n",
       "      <td>10</td>\n",
       "      <td>57.2</td>\n",
       "    </tr>\n",
       "    <tr>\n",
       "      <th>10</th>\n",
       "      <td>2010</td>\n",
       "      <td>11</td>\n",
       "      <td>0.0</td>\n",
       "    </tr>\n",
       "    <tr>\n",
       "      <th>11</th>\n",
       "      <td>2010</td>\n",
       "      <td>12</td>\n",
       "      <td>0.0</td>\n",
       "    </tr>\n",
       "  </tbody>\n",
       "</table>\n",
       "</div>"
      ],
      "text/plain": [
       "    year  month  precipitation\n",
       "0   2010      1           11.2\n",
       "1   2010      2            5.2\n",
       "2   2010      3           23.2\n",
       "3   2010      4           19.9\n",
       "4   2010      5           50.3\n",
       "5   2010      6           35.6\n",
       "6   2010      7           70.9\n",
       "7   2010      8          110.3\n",
       "8   2010      9           69.3\n",
       "9   2010     10           57.2\n",
       "10  2010     11            0.0\n",
       "11  2010     12            0.0"
      ]
     },
     "execution_count": 39,
     "metadata": {},
     "output_type": "execute_result"
    }
   ],
   "source": [
    "precip[precip.year==2010]"
   ]
  },
  {
   "cell_type": "code",
   "execution_count": 6,
   "id": "e0dc73b441000e94",
   "metadata": {
    "ExecuteTime": {
     "end_time": "2024-11-12T15:14:27.058418Z",
     "start_time": "2024-11-12T15:14:27.052289Z"
    }
   },
   "outputs": [],
   "source": [
    "df.season.replace({1:'spring', 2: 'summer', 3: 'autumn', 4: 'winter'}, inplace=True)\n"
   ]
  },
  {
   "cell_type": "code",
   "execution_count": 7,
   "id": "e6b75da9d311704b",
   "metadata": {
    "ExecuteTime": {
     "end_time": "2024-11-12T15:14:43.120106Z",
     "start_time": "2024-11-12T15:14:43.115568Z"
    }
   },
   "outputs": [
    {
     "data": {
      "text/plain": [
       "array(['winter', 'spring', 'summer', 'autumn'], dtype=object)"
      ]
     },
     "execution_count": 7,
     "metadata": {},
     "output_type": "execute_result"
    }
   ],
   "source": [
    "df.season.unique()"
   ]
  },
  {
   "cell_type": "code",
   "execution_count": 5,
   "id": "33c3d5ecd3512d90",
   "metadata": {
    "ExecuteTime": {
     "end_time": "2024-11-14T13:10:39.410889Z",
     "start_time": "2024-11-14T13:10:39.397367Z"
    }
   },
   "outputs": [
    {
     "data": {
      "text/html": [
       "<div>\n",
       "<style scoped>\n",
       "    .dataframe tbody tr th:only-of-type {\n",
       "        vertical-align: middle;\n",
       "    }\n",
       "\n",
       "    .dataframe tbody tr th {\n",
       "        vertical-align: top;\n",
       "    }\n",
       "\n",
       "    .dataframe thead th {\n",
       "        text-align: right;\n",
       "    }\n",
       "</style>\n",
       "<table border=\"1\" class=\"dataframe\">\n",
       "  <thead>\n",
       "    <tr style=\"text-align: right;\">\n",
       "      <th></th>\n",
       "      <th>year</th>\n",
       "      <th>month</th>\n",
       "      <th>day</th>\n",
       "      <th>hour</th>\n",
       "      <th>season</th>\n",
       "      <th>PM_Dongsi</th>\n",
       "      <th>PM_Dongsihuan</th>\n",
       "      <th>PM_Nongzhanguan</th>\n",
       "      <th>PM_US Post</th>\n",
       "      <th>DEWP</th>\n",
       "      <th>HUMI</th>\n",
       "      <th>PRES</th>\n",
       "      <th>TEMP</th>\n",
       "      <th>cbwd</th>\n",
       "      <th>Iws</th>\n",
       "      <th>precipitation</th>\n",
       "      <th>Iprec</th>\n",
       "    </tr>\n",
       "    <tr>\n",
       "      <th>No</th>\n",
       "      <th></th>\n",
       "      <th></th>\n",
       "      <th></th>\n",
       "      <th></th>\n",
       "      <th></th>\n",
       "      <th></th>\n",
       "      <th></th>\n",
       "      <th></th>\n",
       "      <th></th>\n",
       "      <th></th>\n",
       "      <th></th>\n",
       "      <th></th>\n",
       "      <th></th>\n",
       "      <th></th>\n",
       "      <th></th>\n",
       "      <th></th>\n",
       "      <th></th>\n",
       "    </tr>\n",
       "  </thead>\n",
       "  <tbody>\n",
       "    <tr>\n",
       "      <th>1</th>\n",
       "      <td>2010</td>\n",
       "      <td>1</td>\n",
       "      <td>1</td>\n",
       "      <td>0</td>\n",
       "      <td>4</td>\n",
       "      <td>92.191482</td>\n",
       "      <td>98.481998</td>\n",
       "      <td>91.714526</td>\n",
       "      <td>95.904241</td>\n",
       "      <td>-21.0</td>\n",
       "      <td>43.0</td>\n",
       "      <td>1021.0</td>\n",
       "      <td>-11.0</td>\n",
       "      <td>NW</td>\n",
       "      <td>1.79</td>\n",
       "      <td>0.0</td>\n",
       "      <td>0.0</td>\n",
       "    </tr>\n",
       "    <tr>\n",
       "      <th>2</th>\n",
       "      <td>2010</td>\n",
       "      <td>1</td>\n",
       "      <td>1</td>\n",
       "      <td>1</td>\n",
       "      <td>4</td>\n",
       "      <td>92.191482</td>\n",
       "      <td>98.481998</td>\n",
       "      <td>91.714526</td>\n",
       "      <td>95.904241</td>\n",
       "      <td>-21.0</td>\n",
       "      <td>47.0</td>\n",
       "      <td>1020.0</td>\n",
       "      <td>-12.0</td>\n",
       "      <td>NW</td>\n",
       "      <td>4.92</td>\n",
       "      <td>0.0</td>\n",
       "      <td>0.0</td>\n",
       "    </tr>\n",
       "    <tr>\n",
       "      <th>3</th>\n",
       "      <td>2010</td>\n",
       "      <td>1</td>\n",
       "      <td>1</td>\n",
       "      <td>2</td>\n",
       "      <td>4</td>\n",
       "      <td>92.191482</td>\n",
       "      <td>98.481998</td>\n",
       "      <td>91.714526</td>\n",
       "      <td>95.904241</td>\n",
       "      <td>-21.0</td>\n",
       "      <td>43.0</td>\n",
       "      <td>1019.0</td>\n",
       "      <td>-11.0</td>\n",
       "      <td>NW</td>\n",
       "      <td>6.71</td>\n",
       "      <td>0.0</td>\n",
       "      <td>0.0</td>\n",
       "    </tr>\n",
       "    <tr>\n",
       "      <th>4</th>\n",
       "      <td>2010</td>\n",
       "      <td>1</td>\n",
       "      <td>1</td>\n",
       "      <td>3</td>\n",
       "      <td>4</td>\n",
       "      <td>92.191482</td>\n",
       "      <td>98.481998</td>\n",
       "      <td>91.714526</td>\n",
       "      <td>95.904241</td>\n",
       "      <td>-21.0</td>\n",
       "      <td>55.0</td>\n",
       "      <td>1019.0</td>\n",
       "      <td>-14.0</td>\n",
       "      <td>NW</td>\n",
       "      <td>9.84</td>\n",
       "      <td>0.0</td>\n",
       "      <td>0.0</td>\n",
       "    </tr>\n",
       "    <tr>\n",
       "      <th>5</th>\n",
       "      <td>2010</td>\n",
       "      <td>1</td>\n",
       "      <td>1</td>\n",
       "      <td>4</td>\n",
       "      <td>4</td>\n",
       "      <td>92.191482</td>\n",
       "      <td>98.481998</td>\n",
       "      <td>91.714526</td>\n",
       "      <td>95.904241</td>\n",
       "      <td>-20.0</td>\n",
       "      <td>51.0</td>\n",
       "      <td>1018.0</td>\n",
       "      <td>-12.0</td>\n",
       "      <td>NW</td>\n",
       "      <td>12.97</td>\n",
       "      <td>0.0</td>\n",
       "      <td>0.0</td>\n",
       "    </tr>\n",
       "    <tr>\n",
       "      <th>...</th>\n",
       "      <td>...</td>\n",
       "      <td>...</td>\n",
       "      <td>...</td>\n",
       "      <td>...</td>\n",
       "      <td>...</td>\n",
       "      <td>...</td>\n",
       "      <td>...</td>\n",
       "      <td>...</td>\n",
       "      <td>...</td>\n",
       "      <td>...</td>\n",
       "      <td>...</td>\n",
       "      <td>...</td>\n",
       "      <td>...</td>\n",
       "      <td>...</td>\n",
       "      <td>...</td>\n",
       "      <td>...</td>\n",
       "      <td>...</td>\n",
       "    </tr>\n",
       "    <tr>\n",
       "      <th>8756</th>\n",
       "      <td>2010</td>\n",
       "      <td>12</td>\n",
       "      <td>31</td>\n",
       "      <td>19</td>\n",
       "      <td>4</td>\n",
       "      <td>20.032833</td>\n",
       "      <td>22.094680</td>\n",
       "      <td>17.980773</td>\n",
       "      <td>17.000000</td>\n",
       "      <td>-20.0</td>\n",
       "      <td>29.0</td>\n",
       "      <td>1030.0</td>\n",
       "      <td>-5.0</td>\n",
       "      <td>NW</td>\n",
       "      <td>534.65</td>\n",
       "      <td>0.0</td>\n",
       "      <td>0.0</td>\n",
       "    </tr>\n",
       "    <tr>\n",
       "      <th>8757</th>\n",
       "      <td>2010</td>\n",
       "      <td>12</td>\n",
       "      <td>31</td>\n",
       "      <td>20</td>\n",
       "      <td>4</td>\n",
       "      <td>21.861851</td>\n",
       "      <td>24.030883</td>\n",
       "      <td>19.849716</td>\n",
       "      <td>19.000000</td>\n",
       "      <td>-20.0</td>\n",
       "      <td>32.0</td>\n",
       "      <td>1031.0</td>\n",
       "      <td>-6.0</td>\n",
       "      <td>NW</td>\n",
       "      <td>543.59</td>\n",
       "      <td>0.0</td>\n",
       "      <td>0.0</td>\n",
       "    </tr>\n",
       "    <tr>\n",
       "      <th>8758</th>\n",
       "      <td>2010</td>\n",
       "      <td>12</td>\n",
       "      <td>31</td>\n",
       "      <td>21</td>\n",
       "      <td>4</td>\n",
       "      <td>19.118324</td>\n",
       "      <td>21.126578</td>\n",
       "      <td>17.046302</td>\n",
       "      <td>16.000000</td>\n",
       "      <td>-21.0</td>\n",
       "      <td>29.0</td>\n",
       "      <td>1031.0</td>\n",
       "      <td>-6.0</td>\n",
       "      <td>NW</td>\n",
       "      <td>552.53</td>\n",
       "      <td>0.0</td>\n",
       "      <td>0.0</td>\n",
       "    </tr>\n",
       "    <tr>\n",
       "      <th>8759</th>\n",
       "      <td>2010</td>\n",
       "      <td>12</td>\n",
       "      <td>31</td>\n",
       "      <td>22</td>\n",
       "      <td>4</td>\n",
       "      <td>24.605379</td>\n",
       "      <td>26.935188</td>\n",
       "      <td>22.653130</td>\n",
       "      <td>22.000000</td>\n",
       "      <td>-21.0</td>\n",
       "      <td>31.0</td>\n",
       "      <td>1032.0</td>\n",
       "      <td>-7.0</td>\n",
       "      <td>NW</td>\n",
       "      <td>559.68</td>\n",
       "      <td>0.0</td>\n",
       "      <td>0.0</td>\n",
       "    </tr>\n",
       "    <tr>\n",
       "      <th>8760</th>\n",
       "      <td>2010</td>\n",
       "      <td>12</td>\n",
       "      <td>31</td>\n",
       "      <td>23</td>\n",
       "      <td>4</td>\n",
       "      <td>92.191482</td>\n",
       "      <td>98.481998</td>\n",
       "      <td>91.714526</td>\n",
       "      <td>95.904241</td>\n",
       "      <td>-21.0</td>\n",
       "      <td>31.0</td>\n",
       "      <td>1033.0</td>\n",
       "      <td>-7.0</td>\n",
       "      <td>NW</td>\n",
       "      <td>565.49</td>\n",
       "      <td>0.0</td>\n",
       "      <td>0.0</td>\n",
       "    </tr>\n",
       "  </tbody>\n",
       "</table>\n",
       "<p>8760 rows × 17 columns</p>\n",
       "</div>"
      ],
      "text/plain": [
       "      year  month  day  hour  season  PM_Dongsi  PM_Dongsihuan  \\\n",
       "No                                                               \n",
       "1     2010      1    1     0       4  92.191482      98.481998   \n",
       "2     2010      1    1     1       4  92.191482      98.481998   \n",
       "3     2010      1    1     2       4  92.191482      98.481998   \n",
       "4     2010      1    1     3       4  92.191482      98.481998   \n",
       "5     2010      1    1     4       4  92.191482      98.481998   \n",
       "...    ...    ...  ...   ...     ...        ...            ...   \n",
       "8756  2010     12   31    19       4  20.032833      22.094680   \n",
       "8757  2010     12   31    20       4  21.861851      24.030883   \n",
       "8758  2010     12   31    21       4  19.118324      21.126578   \n",
       "8759  2010     12   31    22       4  24.605379      26.935188   \n",
       "8760  2010     12   31    23       4  92.191482      98.481998   \n",
       "\n",
       "      PM_Nongzhanguan  PM_US Post  DEWP  HUMI    PRES  TEMP cbwd     Iws  \\\n",
       "No                                                                         \n",
       "1           91.714526   95.904241 -21.0  43.0  1021.0 -11.0   NW    1.79   \n",
       "2           91.714526   95.904241 -21.0  47.0  1020.0 -12.0   NW    4.92   \n",
       "3           91.714526   95.904241 -21.0  43.0  1019.0 -11.0   NW    6.71   \n",
       "4           91.714526   95.904241 -21.0  55.0  1019.0 -14.0   NW    9.84   \n",
       "5           91.714526   95.904241 -20.0  51.0  1018.0 -12.0   NW   12.97   \n",
       "...               ...         ...   ...   ...     ...   ...  ...     ...   \n",
       "8756        17.980773   17.000000 -20.0  29.0  1030.0  -5.0   NW  534.65   \n",
       "8757        19.849716   19.000000 -20.0  32.0  1031.0  -6.0   NW  543.59   \n",
       "8758        17.046302   16.000000 -21.0  29.0  1031.0  -6.0   NW  552.53   \n",
       "8759        22.653130   22.000000 -21.0  31.0  1032.0  -7.0   NW  559.68   \n",
       "8760        91.714526   95.904241 -21.0  31.0  1033.0  -7.0   NW  565.49   \n",
       "\n",
       "      precipitation  Iprec  \n",
       "No                          \n",
       "1               0.0    0.0  \n",
       "2               0.0    0.0  \n",
       "3               0.0    0.0  \n",
       "4               0.0    0.0  \n",
       "5               0.0    0.0  \n",
       "...             ...    ...  \n",
       "8756            0.0    0.0  \n",
       "8757            0.0    0.0  \n",
       "8758            0.0    0.0  \n",
       "8759            0.0    0.0  \n",
       "8760            0.0    0.0  \n",
       "\n",
       "[8760 rows x 17 columns]"
      ]
     },
     "execution_count": 5,
     "metadata": {},
     "output_type": "execute_result"
    }
   ],
   "source": [
    "year = df[df['year'] == 2010]\n",
    "year"
   ]
  },
  {
   "cell_type": "code",
   "execution_count": 8,
   "id": "9e27791f47d2a926",
   "metadata": {
    "ExecuteTime": {
     "end_time": "2024-11-14T13:17:01.187998Z",
     "start_time": "2024-11-14T13:17:01.183802Z"
    }
   },
   "outputs": [
    {
     "data": {
      "text/plain": [
       "month\n",
       "1      87.769666\n",
       "2      93.411173\n",
       "3      90.572522\n",
       "4      77.753358\n",
       "5      84.190233\n",
       "6     101.617408\n",
       "7     117.360450\n",
       "8      93.669856\n",
       "9     108.174834\n",
       "10    113.059318\n",
       "11    128.018119\n",
       "12     93.297926\n",
       "Name: PM_Dongsi, dtype: float64"
      ]
     },
     "execution_count": 8,
     "metadata": {},
     "output_type": "execute_result"
    }
   ],
   "source": [
    "year.groupby('month')['PM_Dongsi'].mean()"
   ]
  },
  {
   "cell_type": "code",
   "execution_count": 13,
   "id": "676dcb565c446a14",
   "metadata": {
    "ExecuteTime": {
     "end_time": "2024-11-14T13:24:40.834786Z",
     "start_time": "2024-11-14T13:24:40.763598Z"
    }
   },
   "outputs": [
    {
     "data": {
      "text/plain": [
       "[<matplotlib.lines.Line2D at 0x12e80f1d0>]"
      ]
     },
     "execution_count": 13,
     "metadata": {},
     "output_type": "execute_result"
    },
    {
     "data": {
      "image/png": "[encoded data removed]",
      "text/plain": [
       "<Figure size 640x480 with 1 Axes>"
      ]
     },
     "metadata": {},
     "output_type": "display_data"
    }
   ],
   "source": [
    "plt.plot(year.groupby('month')['PM_Dongsi'].mean())"
   ]
  },
  {
   "cell_type": "code",
   "execution_count": 4,
   "id": "f20165c2b8380f82",
   "metadata": {
    "ExecuteTime": {
     "end_time": "2024-11-15T07:25:18.127574Z",
     "start_time": "2024-11-15T07:25:18.115554Z"
    }
   },
   "outputs": [
    {
     "data": {
      "text/html": [
       "<div>\n",
       "<style scoped>\n",
       "    .dataframe tbody tr th:only-of-type {\n",
       "        vertical-align: middle;\n",
       "    }\n",
       "\n",
       "    .dataframe tbody tr th {\n",
       "        vertical-align: top;\n",
       "    }\n",
       "\n",
       "    .dataframe thead th {\n",
       "        text-align: right;\n",
       "    }\n",
       "</style>\n",
       "<table border=\"1\" class=\"dataframe\">\n",
       "  <thead>\n",
       "    <tr style=\"text-align: right;\">\n",
       "      <th></th>\n",
       "      <th>year</th>\n",
       "      <th>month</th>\n",
       "      <th>day</th>\n",
       "      <th>hour</th>\n",
       "      <th>season</th>\n",
       "      <th>PM_Dongsi</th>\n",
       "      <th>PM_Dongsihuan</th>\n",
       "      <th>PM_Nongzhanguan</th>\n",
       "      <th>PM_US Post</th>\n",
       "      <th>DEWP</th>\n",
       "      <th>HUMI</th>\n",
       "      <th>PRES</th>\n",
       "      <th>TEMP</th>\n",
       "      <th>cbwd</th>\n",
       "      <th>Iws</th>\n",
       "      <th>precipitation</th>\n",
       "      <th>Iprec</th>\n",
       "    </tr>\n",
       "    <tr>\n",
       "      <th>No</th>\n",
       "      <th></th>\n",
       "      <th></th>\n",
       "      <th></th>\n",
       "      <th></th>\n",
       "      <th></th>\n",
       "      <th></th>\n",
       "      <th></th>\n",
       "      <th></th>\n",
       "      <th></th>\n",
       "      <th></th>\n",
       "      <th></th>\n",
       "      <th></th>\n",
       "      <th></th>\n",
       "      <th></th>\n",
       "      <th></th>\n",
       "      <th></th>\n",
       "      <th></th>\n",
       "    </tr>\n",
       "  </thead>\n",
       "  <tbody>\n",
       "    <tr>\n",
       "      <th>1</th>\n",
       "      <td>2010</td>\n",
       "      <td>1</td>\n",
       "      <td>1</td>\n",
       "      <td>0</td>\n",
       "      <td>4</td>\n",
       "      <td>92.191482</td>\n",
       "      <td>98.481998</td>\n",
       "      <td>91.714526</td>\n",
       "      <td>95.904241</td>\n",
       "      <td>-21.0</td>\n",
       "      <td>43.0</td>\n",
       "      <td>1021.0</td>\n",
       "      <td>-11.0</td>\n",
       "      <td>NW</td>\n",
       "      <td>1.79</td>\n",
       "      <td>0.0</td>\n",
       "      <td>0.0</td>\n",
       "    </tr>\n",
       "    <tr>\n",
       "      <th>2</th>\n",
       "      <td>2010</td>\n",
       "      <td>1</td>\n",
       "      <td>1</td>\n",
       "      <td>1</td>\n",
       "      <td>4</td>\n",
       "      <td>92.191482</td>\n",
       "      <td>98.481998</td>\n",
       "      <td>91.714526</td>\n",
       "      <td>95.904241</td>\n",
       "      <td>-21.0</td>\n",
       "      <td>47.0</td>\n",
       "      <td>1020.0</td>\n",
       "      <td>-12.0</td>\n",
       "      <td>NW</td>\n",
       "      <td>4.92</td>\n",
       "      <td>0.0</td>\n",
       "      <td>0.0</td>\n",
       "    </tr>\n",
       "    <tr>\n",
       "      <th>3</th>\n",
       "      <td>2010</td>\n",
       "      <td>1</td>\n",
       "      <td>1</td>\n",
       "      <td>2</td>\n",
       "      <td>4</td>\n",
       "      <td>92.191482</td>\n",
       "      <td>98.481998</td>\n",
       "      <td>91.714526</td>\n",
       "      <td>95.904241</td>\n",
       "      <td>-21.0</td>\n",
       "      <td>43.0</td>\n",
       "      <td>1019.0</td>\n",
       "      <td>-11.0</td>\n",
       "      <td>NW</td>\n",
       "      <td>6.71</td>\n",
       "      <td>0.0</td>\n",
       "      <td>0.0</td>\n",
       "    </tr>\n",
       "    <tr>\n",
       "      <th>4</th>\n",
       "      <td>2010</td>\n",
       "      <td>1</td>\n",
       "      <td>1</td>\n",
       "      <td>3</td>\n",
       "      <td>4</td>\n",
       "      <td>92.191482</td>\n",
       "      <td>98.481998</td>\n",
       "      <td>91.714526</td>\n",
       "      <td>95.904241</td>\n",
       "      <td>-21.0</td>\n",
       "      <td>55.0</td>\n",
       "      <td>1019.0</td>\n",
       "      <td>-14.0</td>\n",
       "      <td>NW</td>\n",
       "      <td>9.84</td>\n",
       "      <td>0.0</td>\n",
       "      <td>0.0</td>\n",
       "    </tr>\n",
       "    <tr>\n",
       "      <th>5</th>\n",
       "      <td>2010</td>\n",
       "      <td>1</td>\n",
       "      <td>1</td>\n",
       "      <td>4</td>\n",
       "      <td>4</td>\n",
       "      <td>92.191482</td>\n",
       "      <td>98.481998</td>\n",
       "      <td>91.714526</td>\n",
       "      <td>95.904241</td>\n",
       "      <td>-20.0</td>\n",
       "      <td>51.0</td>\n",
       "      <td>1018.0</td>\n",
       "      <td>-12.0</td>\n",
       "      <td>NW</td>\n",
       "      <td>12.97</td>\n",
       "      <td>0.0</td>\n",
       "      <td>0.0</td>\n",
       "    </tr>\n",
       "    <tr>\n",
       "      <th>...</th>\n",
       "      <td>...</td>\n",
       "      <td>...</td>\n",
       "      <td>...</td>\n",
       "      <td>...</td>\n",
       "      <td>...</td>\n",
       "      <td>...</td>\n",
       "      <td>...</td>\n",
       "      <td>...</td>\n",
       "      <td>...</td>\n",
       "      <td>...</td>\n",
       "      <td>...</td>\n",
       "      <td>...</td>\n",
       "      <td>...</td>\n",
       "      <td>...</td>\n",
       "      <td>...</td>\n",
       "      <td>...</td>\n",
       "      <td>...</td>\n",
       "    </tr>\n",
       "    <tr>\n",
       "      <th>8756</th>\n",
       "      <td>2010</td>\n",
       "      <td>12</td>\n",
       "      <td>31</td>\n",
       "      <td>19</td>\n",
       "      <td>4</td>\n",
       "      <td>20.032833</td>\n",
       "      <td>22.094680</td>\n",
       "      <td>17.980773</td>\n",
       "      <td>17.000000</td>\n",
       "      <td>-20.0</td>\n",
       "      <td>29.0</td>\n",
       "      <td>1030.0</td>\n",
       "      <td>-5.0</td>\n",
       "      <td>NW</td>\n",
       "      <td>534.65</td>\n",
       "      <td>0.0</td>\n",
       "      <td>0.0</td>\n",
       "    </tr>\n",
       "    <tr>\n",
       "      <th>8757</th>\n",
       "      <td>2010</td>\n",
       "      <td>12</td>\n",
       "      <td>31</td>\n",
       "      <td>20</td>\n",
       "      <td>4</td>\n",
       "      <td>21.861851</td>\n",
       "      <td>24.030883</td>\n",
       "      <td>19.849716</td>\n",
       "      <td>19.000000</td>\n",
       "      <td>-20.0</td>\n",
       "      <td>32.0</td>\n",
       "      <td>1031.0</td>\n",
       "      <td>-6.0</td>\n",
       "      <td>NW</td>\n",
       "      <td>543.59</td>\n",
       "      <td>0.0</td>\n",
       "      <td>0.0</td>\n",
       "    </tr>\n",
       "    <tr>\n",
       "      <th>8758</th>\n",
       "      <td>2010</td>\n",
       "      <td>12</td>\n",
       "      <td>31</td>\n",
       "      <td>21</td>\n",
       "      <td>4</td>\n",
       "      <td>19.118324</td>\n",
       "      <td>21.126578</td>\n",
       "      <td>17.046302</td>\n",
       "      <td>16.000000</td>\n",
       "      <td>-21.0</td>\n",
       "      <td>29.0</td>\n",
       "      <td>1031.0</td>\n",
       "      <td>-6.0</td>\n",
       "      <td>NW</td>\n",
       "      <td>552.53</td>\n",
       "      <td>0.0</td>\n",
       "      <td>0.0</td>\n",
       "    </tr>\n",
       "    <tr>\n",
       "      <th>8759</th>\n",
       "      <td>2010</td>\n",
       "      <td>12</td>\n",
       "      <td>31</td>\n",
       "      <td>22</td>\n",
       "      <td>4</td>\n",
       "      <td>24.605379</td>\n",
       "      <td>26.935188</td>\n",
       "      <td>22.653130</td>\n",
       "      <td>22.000000</td>\n",
       "      <td>-21.0</td>\n",
       "      <td>31.0</td>\n",
       "      <td>1032.0</td>\n",
       "      <td>-7.0</td>\n",
       "      <td>NW</td>\n",
       "      <td>559.68</td>\n",
       "      <td>0.0</td>\n",
       "      <td>0.0</td>\n",
       "    </tr>\n",
       "    <tr>\n",
       "      <th>8760</th>\n",
       "      <td>2010</td>\n",
       "      <td>12</td>\n",
       "      <td>31</td>\n",
       "      <td>23</td>\n",
       "      <td>4</td>\n",
       "      <td>92.191482</td>\n",
       "      <td>98.481998</td>\n",
       "      <td>91.714526</td>\n",
       "      <td>95.904241</td>\n",
       "      <td>-21.0</td>\n",
       "      <td>31.0</td>\n",
       "      <td>1033.0</td>\n",
       "      <td>-7.0</td>\n",
       "      <td>NW</td>\n",
       "      <td>565.49</td>\n",
       "      <td>0.0</td>\n",
       "      <td>0.0</td>\n",
       "    </tr>\n",
       "  </tbody>\n",
       "</table>\n",
       "<p>8760 rows × 17 columns</p>\n",
       "</div>"
      ],
      "text/plain": [
       "      year  month  day  hour  season  PM_Dongsi  PM_Dongsihuan  \\\n",
       "No                                                               \n",
       "1     2010      1    1     0       4  92.191482      98.481998   \n",
       "2     2010      1    1     1       4  92.191482      98.481998   \n",
       "3     2010      1    1     2       4  92.191482      98.481998   \n",
       "4     2010      1    1     3       4  92.191482      98.481998   \n",
       "5     2010      1    1     4       4  92.191482      98.481998   \n",
       "...    ...    ...  ...   ...     ...        ...            ...   \n",
       "8756  2010     12   31    19       4  20.032833      22.094680   \n",
       "8757  2010     12   31    20       4  21.861851      24.030883   \n",
       "8758  2010     12   31    21       4  19.118324      21.126578   \n",
       "8759  2010     12   31    22       4  24.605379      26.935188   \n",
       "8760  2010     12   31    23       4  92.191482      98.481998   \n",
       "\n",
       "      PM_Nongzhanguan  PM_US Post  DEWP  HUMI    PRES  TEMP cbwd     Iws  \\\n",
       "No                                                                         \n",
       "1           91.714526   95.904241 -21.0  43.0  1021.0 -11.0   NW    1.79   \n",
       "2           91.714526   95.904241 -21.0  47.0  1020.0 -12.0   NW    4.92   \n",
       "3           91.714526   95.904241 -21.0  43.0  1019.0 -11.0   NW    6.71   \n",
       "4           91.714526   95.904241 -21.0  55.0  1019.0 -14.0   NW    9.84   \n",
       "5           91.714526   95.904241 -20.0  51.0  1018.0 -12.0   NW   12.97   \n",
       "...               ...         ...   ...   ...     ...   ...  ...     ...   \n",
       "8756        17.980773   17.000000 -20.0  29.0  1030.0  -5.0   NW  534.65   \n",
       "8757        19.849716   19.000000 -20.0  32.0  1031.0  -6.0   NW  543.59   \n",
       "8758        17.046302   16.000000 -21.0  29.0  1031.0  -6.0   NW  552.53   \n",
       "8759        22.653130   22.000000 -21.0  31.0  1032.0  -7.0   NW  559.68   \n",
       "8760        91.714526   95.904241 -21.0  31.0  1033.0  -7.0   NW  565.49   \n",
       "\n",
       "      precipitation  Iprec  \n",
       "No                          \n",
       "1               0.0    0.0  \n",
       "2               0.0    0.0  \n",
       "3               0.0    0.0  \n",
       "4               0.0    0.0  \n",
       "5               0.0    0.0  \n",
       "...             ...    ...  \n",
       "8756            0.0    0.0  \n",
       "8757            0.0    0.0  \n",
       "8758            0.0    0.0  \n",
       "8759            0.0    0.0  \n",
       "8760            0.0    0.0  \n",
       "\n",
       "[8760 rows x 17 columns]"
      ]
     },
     "execution_count": 4,
     "metadata": {},
     "output_type": "execute_result"
    }
   ],
   "source": [
    "month = df[df['year'] == 2010]\n",
    "month"
   ]
  },
  {
   "cell_type": "code",
   "execution_count": 5,
   "id": "b9192a64b0be2cc2",
   "metadata": {
    "ExecuteTime": {
     "end_time": "2024-11-15T07:26:44.242884Z",
     "start_time": "2024-11-15T07:26:44.240146Z"
    }
   },
   "outputs": [],
   "source": [
    "season = month[month['season'] == 4]"
   ]
  },
  {
   "cell_type": "code",
   "execution_count": 11,
   "id": "b05be09c5ea86a3f",
   "metadata": {
    "ExecuteTime": {
     "end_time": "2024-11-15T07:49:39.027409Z",
     "start_time": "2024-11-15T07:49:39.023386Z"
    }
   },
   "outputs": [],
   "source": [
    "season_data = season.groupby('month')[['PM_Dongsi', 'PM_Dongsihuan', 'PM_Nongzhanguan', 'PM_US Post']].mean()"
   ]
  },
  {
   "cell_type": "code",
   "execution_count": 17,
   "id": "9f45aea22c72607e",
   "metadata": {
    "ExecuteTime": {
     "end_time": "2024-11-15T07:55:45.876028Z",
     "start_time": "2024-11-15T07:55:45.872848Z"
    }
   },
   "outputs": [
    {
     "data": {
      "text/plain": [
       "Index([1, 12, 2], dtype='int64', name='month')"
      ]
     },
     "execution_count": 17,
     "metadata": {},
     "output_type": "execute_result"
    }
   ],
   "source": [
    "pd.value_counts(season.month).index"
   ]
  },
  {
   "cell_type": "code",
   "execution_count": 38,
   "id": "ab631f410df9c8bb",
   "metadata": {
    "ExecuteTime": {
     "end_time": "2024-11-15T07:57:04.481980Z",
     "start_time": "2024-11-15T07:57:04.479029Z"
    }
   },
   "outputs": [
    {
     "data": {
      "text/plain": [
       "<matplotlib.legend.Legend at 0x144b9ea90>"
      ]
     },
     "execution_count": 38,
     "metadata": {},
     "output_type": "execute_result"
    },
    {
     "data": {
      "image/png": "[encoded data removed]",
      "text/plain": [
       "<Figure size 640x480 with 1 Axes>"
      ]
     },
     "metadata": {},
     "output_type": "display_data"
    }
   ],
   "source": [
    "season.groupby('month')[['PM_Dongsi', 'PM_Dongsihuan', 'PM_Nongzhanguan', 'PM_US Post']].mean().plot.bar()\n",
    "plt.xticks(rotation=0)\n",
    "plt.legend(bbox_to_anchor=(1, .25))"
   ]
  },
  {
   "cell_type": "code",
   "execution_count": 89,
   "id": "19414f8a4ec7ee5a",
   "metadata": {
    "ExecuteTime": {
     "end_time": "2024-11-15T08:02:48.684841Z",
     "start_time": "2024-11-15T08:02:48.564333Z"
    }
   },
   "outputs": [
    {
     "data": {
      "text/html": [
       "<div>\n",
       "<style scoped>\n",
       "    .dataframe tbody tr th:only-of-type {\n",
       "        vertical-align: middle;\n",
       "    }\n",
       "\n",
       "    .dataframe tbody tr th {\n",
       "        vertical-align: top;\n",
       "    }\n",
       "\n",
       "    .dataframe thead th {\n",
       "        text-align: right;\n",
       "    }\n",
       "</style>\n",
       "<table border=\"1\" class=\"dataframe\">\n",
       "  <thead>\n",
       "    <tr style=\"text-align: right;\">\n",
       "      <th></th>\n",
       "      <th>PM_Dongsi</th>\n",
       "      <th>PM_Dongsihuan</th>\n",
       "      <th>PM_Nongzhanguan</th>\n",
       "      <th>PM_US Post</th>\n",
       "    </tr>\n",
       "    <tr>\n",
       "      <th>month</th>\n",
       "      <th></th>\n",
       "      <th></th>\n",
       "      <th></th>\n",
       "      <th></th>\n",
       "    </tr>\n",
       "  </thead>\n",
       "  <tbody>\n",
       "    <tr>\n",
       "      <th>1</th>\n",
       "      <td>87.769666</td>\n",
       "      <td>93.801053</td>\n",
       "      <td>87.196189</td>\n",
       "      <td>91.069061</td>\n",
       "    </tr>\n",
       "    <tr>\n",
       "      <th>2</th>\n",
       "      <td>93.411173</td>\n",
       "      <td>99.773166</td>\n",
       "      <td>92.960841</td>\n",
       "      <td>97.237953</td>\n",
       "    </tr>\n",
       "    <tr>\n",
       "      <th>12</th>\n",
       "      <td>93.297926</td>\n",
       "      <td>99.653282</td>\n",
       "      <td>92.845122</td>\n",
       "      <td>97.114119</td>\n",
       "    </tr>\n",
       "  </tbody>\n",
       "</table>\n",
       "</div>"
      ],
      "text/plain": [
       "       PM_Dongsi  PM_Dongsihuan  PM_Nongzhanguan  PM_US Post\n",
       "month                                                       \n",
       "1      87.769666      93.801053        87.196189   91.069061\n",
       "2      93.411173      99.773166        92.960841   97.237953\n",
       "12     93.297926      99.653282        92.845122   97.114119"
      ]
     },
     "execution_count": 89,
     "metadata": {},
     "output_type": "execute_result"
    }
   ],
   "source": [
    "season_data = season.groupby('month')[['PM_Dongsi', 'PM_Dongsihuan', 'PM_Nongzhanguan', 'PM_US Post']].mean()\n",
    "season_data"
   ]
  },
  {
   "cell_type": "code",
   "execution_count": 95,
   "id": "383ce22d-e979-4130-bbdc-ab91682b5488",
   "metadata": {},
   "outputs": [
    {
     "data": {
      "text/plain": [
       "array([0, 1, 2])"
      ]
     },
     "execution_count": 95,
     "metadata": {},
     "output_type": "execute_result"
    }
   ],
   "source": [
    "x = np.arange(len(season_data.index))"
   ]
  },
  {
   "cell_type": "code",
   "execution_count": 152,
   "id": "f08329ee-b8b8-400b-90f5-b1804f2cca16",
   "metadata": {},
   "outputs": [
    {
     "data": {
      "image/png": "[encoded data removed]",
      "text/plain": [
       "<Figure size 640x480 with 1 Axes>"
      ]
     },
     "metadata": {},
     "output_type": "display_data"
    }
   ],
   "source": [
    "x = np.arange(len(season_data.index))  # setting each bar distance\n",
    "width = 0.2  # bar width\n",
    "multiplier = 0\n",
    "\n",
    "# fig, ax = plt.subplots(layout='constrained')\n",
    "for col in season_data.columns:\n",
    "    offset = width * multiplier  # x offset \n",
    "    plt.bar(x + offset, season_data[col], width)\n",
    "    # ax.bar_label(rects)\n",
    "    multiplier += 1\n",
    "\n",
    "plt.xticks(ticks=[0.3, 1.3, 2.3], labels=[1, 2, 12])\n",
    "plt.legend(['PM_Dongsi', 'PM_Dongsihuan', 'PM_Nongzhanguan', 'PM_US Post'], bbox_to_anchor=(1, .25))\n",
    "plt.show()"
   ]
  },
  {
   "cell_type": "code",
   "execution_count": 80,
   "id": "219fff00-75de-48d6-b5b7-61a256853c66",
   "metadata": {},
   "outputs": [
    {
     "data": {
      "text/html": [
       "<div>\n",
       "<style scoped>\n",
       "    .dataframe tbody tr th:only-of-type {\n",
       "        vertical-align: middle;\n",
       "    }\n",
       "\n",
       "    .dataframe tbody tr th {\n",
       "        vertical-align: top;\n",
       "    }\n",
       "\n",
       "    .dataframe thead th {\n",
       "        text-align: right;\n",
       "    }\n",
       "</style>\n",
       "<table border=\"1\" class=\"dataframe\">\n",
       "  <thead>\n",
       "    <tr style=\"text-align: right;\">\n",
       "      <th></th>\n",
       "      <th>month</th>\n",
       "      <th>PM_Dongsi</th>\n",
       "      <th>PM_Dongsihuan</th>\n",
       "      <th>PM_Nongzhanguan</th>\n",
       "      <th>PM_US Post</th>\n",
       "    </tr>\n",
       "  </thead>\n",
       "  <tbody>\n",
       "    <tr>\n",
       "      <th>0</th>\n",
       "      <td>1</td>\n",
       "      <td>87.769666</td>\n",
       "      <td>93.801053</td>\n",
       "      <td>87.196189</td>\n",
       "      <td>91.069061</td>\n",
       "    </tr>\n",
       "    <tr>\n",
       "      <th>1</th>\n",
       "      <td>2</td>\n",
       "      <td>93.411173</td>\n",
       "      <td>99.773166</td>\n",
       "      <td>92.960841</td>\n",
       "      <td>97.237953</td>\n",
       "    </tr>\n",
       "    <tr>\n",
       "      <th>2</th>\n",
       "      <td>12</td>\n",
       "      <td>93.297926</td>\n",
       "      <td>99.653282</td>\n",
       "      <td>92.845122</td>\n",
       "      <td>97.114119</td>\n",
       "    </tr>\n",
       "  </tbody>\n",
       "</table>\n",
       "</div>"
      ],
      "text/plain": [
       "   month  PM_Dongsi  PM_Dongsihuan  PM_Nongzhanguan  PM_US Post\n",
       "0      1  87.769666      93.801053        87.196189   91.069061\n",
       "1      2  93.411173      99.773166        92.960841   97.237953\n",
       "2     12  93.297926      99.653282        92.845122   97.114119"
      ]
     },
     "execution_count": 80,
     "metadata": {},
     "output_type": "execute_result"
    }
   ],
   "source": [
    "season_data"
   ]
  },
  {
   "cell_type": "code",
   "execution_count": 14,
   "id": "d74ab53e-d5dd-4041-b28f-98c1c686381f",
   "metadata": {},
   "outputs": [
    {
     "data": {
      "text/html": [
       "<div>\n",
       "<style scoped>\n",
       "    .dataframe tbody tr th:only-of-type {\n",
       "        vertical-align: middle;\n",
       "    }\n",
       "\n",
       "    .dataframe tbody tr th {\n",
       "        vertical-align: top;\n",
       "    }\n",
       "\n",
       "    .dataframe thead th {\n",
       "        text-align: right;\n",
       "    }\n",
       "</style>\n",
       "<table border=\"1\" class=\"dataframe\">\n",
       "  <thead>\n",
       "    <tr style=\"text-align: right;\">\n",
       "      <th></th>\n",
       "      <th>month</th>\n",
       "      <th>PM_Dongsi</th>\n",
       "      <th>PM_Dongsihuan</th>\n",
       "      <th>PM_Nongzhanguan</th>\n",
       "      <th>PM_US Post</th>\n",
       "    </tr>\n",
       "  </thead>\n",
       "  <tbody>\n",
       "    <tr>\n",
       "      <th>0</th>\n",
       "      <td>1</td>\n",
       "      <td>87.769666</td>\n",
       "      <td>93.801053</td>\n",
       "      <td>87.196189</td>\n",
       "      <td>91.069061</td>\n",
       "    </tr>\n",
       "    <tr>\n",
       "      <th>1</th>\n",
       "      <td>2</td>\n",
       "      <td>93.411173</td>\n",
       "      <td>99.773166</td>\n",
       "      <td>92.960841</td>\n",
       "      <td>97.237953</td>\n",
       "    </tr>\n",
       "    <tr>\n",
       "      <th>2</th>\n",
       "      <td>3</td>\n",
       "      <td>90.572522</td>\n",
       "      <td>96.768163</td>\n",
       "      <td>90.060227</td>\n",
       "      <td>94.133936</td>\n",
       "    </tr>\n",
       "    <tr>\n",
       "      <th>3</th>\n",
       "      <td>4</td>\n",
       "      <td>77.753358</td>\n",
       "      <td>83.197765</td>\n",
       "      <td>76.961241</td>\n",
       "      <td>80.116401</td>\n",
       "    </tr>\n",
       "    <tr>\n",
       "      <th>4</th>\n",
       "      <td>5</td>\n",
       "      <td>84.190233</td>\n",
       "      <td>90.011856</td>\n",
       "      <td>83.538623</td>\n",
       "      <td>87.155013</td>\n",
       "    </tr>\n",
       "    <tr>\n",
       "      <th>5</th>\n",
       "      <td>6</td>\n",
       "      <td>101.617408</td>\n",
       "      <td>108.460306</td>\n",
       "      <td>101.346205</td>\n",
       "      <td>106.211330</td>\n",
       "    </tr>\n",
       "    <tr>\n",
       "      <th>6</th>\n",
       "      <td>7</td>\n",
       "      <td>117.360450</td>\n",
       "      <td>125.125928</td>\n",
       "      <td>117.432891</td>\n",
       "      <td>123.426075</td>\n",
       "    </tr>\n",
       "    <tr>\n",
       "      <th>7</th>\n",
       "      <td>8</td>\n",
       "      <td>93.669856</td>\n",
       "      <td>100.047008</td>\n",
       "      <td>93.225170</td>\n",
       "      <td>97.520818</td>\n",
       "    </tr>\n",
       "    <tr>\n",
       "      <th>8</th>\n",
       "      <td>9</td>\n",
       "      <td>108.174834</td>\n",
       "      <td>115.402013</td>\n",
       "      <td>108.046769</td>\n",
       "      <td>113.381762</td>\n",
       "    </tr>\n",
       "    <tr>\n",
       "      <th>9</th>\n",
       "      <td>10</td>\n",
       "      <td>113.059318</td>\n",
       "      <td>120.572739</td>\n",
       "      <td>113.037872</td>\n",
       "      <td>118.722861</td>\n",
       "    </tr>\n",
       "    <tr>\n",
       "      <th>10</th>\n",
       "      <td>11</td>\n",
       "      <td>128.018119</td>\n",
       "      <td>136.408161</td>\n",
       "      <td>128.323199</td>\n",
       "      <td>135.080052</td>\n",
       "    </tr>\n",
       "    <tr>\n",
       "      <th>11</th>\n",
       "      <td>12</td>\n",
       "      <td>93.297926</td>\n",
       "      <td>99.653282</td>\n",
       "      <td>92.845122</td>\n",
       "      <td>97.114119</td>\n",
       "    </tr>\n",
       "  </tbody>\n",
       "</table>\n",
       "</div>"
      ],
      "text/plain": [
       "    month   PM_Dongsi  PM_Dongsihuan  PM_Nongzhanguan  PM_US Post\n",
       "0       1   87.769666      93.801053        87.196189   91.069061\n",
       "1       2   93.411173      99.773166        92.960841   97.237953\n",
       "2       3   90.572522      96.768163        90.060227   94.133936\n",
       "3       4   77.753358      83.197765        76.961241   80.116401\n",
       "4       5   84.190233      90.011856        83.538623   87.155013\n",
       "5       6  101.617408     108.460306       101.346205  106.211330\n",
       "6       7  117.360450     125.125928       117.432891  123.426075\n",
       "7       8   93.669856     100.047008        93.225170   97.520818\n",
       "8       9  108.174834     115.402013       108.046769  113.381762\n",
       "9      10  113.059318     120.572739       113.037872  118.722861\n",
       "10     11  128.018119     136.408161       128.323199  135.080052\n",
       "11     12   93.297926      99.653282        92.845122   97.114119"
      ]
     },
     "execution_count": 14,
     "metadata": {},
     "output_type": "execute_result"
    }
   ],
   "source": [
    "year = df[df['year'] == 2010]\n",
    "year_data = year.groupby('month')[['PM_Dongsi', 'PM_Dongsihuan', 'PM_Nongzhanguan', 'PM_US Post']].mean()\n",
    "year_data = year_data.reset_index()\n",
    "year_data"
   ]
  },
  {
   "cell_type": "code",
   "execution_count": 18,
   "id": "d9c63b31-1bac-415e-b043-a0a0fb27a077",
   "metadata": {},
   "outputs": [
    {
     "data": {
      "text/html": [
       "<div>\n",
       "<style scoped>\n",
       "    .dataframe tbody tr th:only-of-type {\n",
       "        vertical-align: middle;\n",
       "    }\n",
       "\n",
       "    .dataframe tbody tr th {\n",
       "        vertical-align: top;\n",
       "    }\n",
       "\n",
       "    .dataframe thead th {\n",
       "        text-align: right;\n",
       "    }\n",
       "</style>\n",
       "<table border=\"1\" class=\"dataframe\">\n",
       "  <thead>\n",
       "    <tr style=\"text-align: right;\">\n",
       "      <th></th>\n",
       "      <th>Iws</th>\n",
       "    </tr>\n",
       "    <tr>\n",
       "      <th>month</th>\n",
       "      <th></th>\n",
       "    </tr>\n",
       "  </thead>\n",
       "  <tbody>\n",
       "    <tr>\n",
       "      <th>1</th>\n",
       "      <td>41.227325</td>\n",
       "    </tr>\n",
       "    <tr>\n",
       "      <th>2</th>\n",
       "      <td>13.466786</td>\n",
       "    </tr>\n",
       "    <tr>\n",
       "      <th>3</th>\n",
       "      <td>23.281237</td>\n",
       "    </tr>\n",
       "    <tr>\n",
       "      <th>4</th>\n",
       "      <td>58.280833</td>\n",
       "    </tr>\n",
       "    <tr>\n",
       "      <th>5</th>\n",
       "      <td>21.419126</td>\n",
       "    </tr>\n",
       "    <tr>\n",
       "      <th>6</th>\n",
       "      <td>10.175611</td>\n",
       "    </tr>\n",
       "    <tr>\n",
       "      <th>7</th>\n",
       "      <td>14.495914</td>\n",
       "    </tr>\n",
       "    <tr>\n",
       "      <th>8</th>\n",
       "      <td>16.308387</td>\n",
       "    </tr>\n",
       "    <tr>\n",
       "      <th>9</th>\n",
       "      <td>13.797931</td>\n",
       "    </tr>\n",
       "    <tr>\n",
       "      <th>10</th>\n",
       "      <td>21.880605</td>\n",
       "    </tr>\n",
       "    <tr>\n",
       "      <th>11</th>\n",
       "      <td>49.674583</td>\n",
       "    </tr>\n",
       "    <tr>\n",
       "      <th>12</th>\n",
       "      <td>55.855968</td>\n",
       "    </tr>\n",
       "  </tbody>\n",
       "</table>\n",
       "</div>"
      ],
      "text/plain": [
       "             Iws\n",
       "month           \n",
       "1      41.227325\n",
       "2      13.466786\n",
       "3      23.281237\n",
       "4      58.280833\n",
       "5      21.419126\n",
       "6      10.175611\n",
       "7      14.495914\n",
       "8      16.308387\n",
       "9      13.797931\n",
       "10     21.880605\n",
       "11     49.674583\n",
       "12     55.855968"
      ]
     },
     "execution_count": 18,
     "metadata": {},
     "output_type": "execute_result"
    }
   ],
   "source": [
    "year.groupby('month')[['Iws']].mean()"
   ]
  },
  {
   "cell_type": "code",
   "execution_count": 3,
   "id": "b028a353-3f8a-4c0f-aa26-4e6c78d6fdd0",
   "metadata": {},
   "outputs": [],
   "source": [
    "year_data = df[df['year'] == 2010]\n",
    "max_PM = year_data[['PM_Dongsi', 'PM_Dongsihuan', 'PM_Nongzhanguan', 'PM_US Post']].agg('max')"
   ]
  },
  {
   "cell_type": "code",
   "execution_count": 4,
   "id": "4f1c5de6-18a1-419f-9179-f5d003176c1e",
   "metadata": {},
   "outputs": [
    {
     "data": {
      "text/plain": [
       "np.float64(900.7051253267309)"
      ]
     },
     "execution_count": 4,
     "metadata": {},
     "output_type": "execute_result"
    }
   ],
   "source": [
    "max_PM.iloc[0]"
   ]
  },
  {
   "cell_type": "code",
   "execution_count": 8,
   "id": "0e51fd70-08b5-401c-ba51-3923f01ae901",
   "metadata": {},
   "outputs": [
    {
     "data": {
      "text/html": [
       "<div>\n",
       "<style scoped>\n",
       "    .dataframe tbody tr th:only-of-type {\n",
       "        vertical-align: middle;\n",
       "    }\n",
       "\n",
       "    .dataframe tbody tr th {\n",
       "        vertical-align: top;\n",
       "    }\n",
       "\n",
       "    .dataframe thead th {\n",
       "        text-align: right;\n",
       "    }\n",
       "</style>\n",
       "<table border=\"1\" class=\"dataframe\">\n",
       "  <thead>\n",
       "    <tr style=\"text-align: right;\">\n",
       "      <th></th>\n",
       "      <th>PM_Dongsi</th>\n",
       "      <th>PM_Dongsihuan</th>\n",
       "      <th>PM_Nongzhanguan</th>\n",
       "      <th>PM_US Post</th>\n",
       "    </tr>\n",
       "    <tr>\n",
       "      <th>day</th>\n",
       "      <th></th>\n",
       "      <th></th>\n",
       "      <th></th>\n",
       "      <th></th>\n",
       "    </tr>\n",
       "  </thead>\n",
       "  <tbody>\n",
       "    <tr>\n",
       "      <th>1</th>\n",
       "      <td>93.452581</td>\n",
       "      <td>99.817000</td>\n",
       "      <td>93.003153</td>\n",
       "      <td>97.283231</td>\n",
       "    </tr>\n",
       "    <tr>\n",
       "      <th>2</th>\n",
       "      <td>136.480329</td>\n",
       "      <td>145.366277</td>\n",
       "      <td>136.970125</td>\n",
       "      <td>144.333333</td>\n",
       "    </tr>\n",
       "    <tr>\n",
       "      <th>3</th>\n",
       "      <td>76.160831</td>\n",
       "      <td>81.511912</td>\n",
       "      <td>75.333952</td>\n",
       "      <td>78.375000</td>\n",
       "    </tr>\n",
       "    <tr>\n",
       "      <th>4</th>\n",
       "      <td>31.273674</td>\n",
       "      <td>33.994261</td>\n",
       "      <td>29.466983</td>\n",
       "      <td>29.291667</td>\n",
       "    </tr>\n",
       "    <tr>\n",
       "      <th>5</th>\n",
       "      <td>44.305429</td>\n",
       "      <td>47.789708</td>\n",
       "      <td>42.783200</td>\n",
       "      <td>43.541667</td>\n",
       "    </tr>\n",
       "    <tr>\n",
       "      <th>6</th>\n",
       "      <td>58.785157</td>\n",
       "      <td>63.117983</td>\n",
       "      <td>57.578997</td>\n",
       "      <td>59.375000</td>\n",
       "    </tr>\n",
       "    <tr>\n",
       "      <th>7</th>\n",
       "      <td>70.749985</td>\n",
       "      <td>75.783978</td>\n",
       "      <td>69.804997</td>\n",
       "      <td>72.458333</td>\n",
       "    </tr>\n",
       "    <tr>\n",
       "      <th>8</th>\n",
       "      <td>163.915603</td>\n",
       "      <td>174.409323</td>\n",
       "      <td>165.004266</td>\n",
       "      <td>174.333333</td>\n",
       "    </tr>\n",
       "    <tr>\n",
       "      <th>9</th>\n",
       "      <td>81.990826</td>\n",
       "      <td>87.683560</td>\n",
       "      <td>81.291207</td>\n",
       "      <td>84.750000</td>\n",
       "    </tr>\n",
       "    <tr>\n",
       "      <th>10</th>\n",
       "      <td>54.860389</td>\n",
       "      <td>58.963214</td>\n",
       "      <td>53.568557</td>\n",
       "      <td>55.083333</td>\n",
       "    </tr>\n",
       "    <tr>\n",
       "      <th>11</th>\n",
       "      <td>22.700151</td>\n",
       "      <td>24.918309</td>\n",
       "      <td>20.706315</td>\n",
       "      <td>19.916667</td>\n",
       "    </tr>\n",
       "    <tr>\n",
       "      <th>12</th>\n",
       "      <td>23.233615</td>\n",
       "      <td>25.483035</td>\n",
       "      <td>21.251423</td>\n",
       "      <td>20.500000</td>\n",
       "    </tr>\n",
       "    <tr>\n",
       "      <th>13</th>\n",
       "      <td>43.543338</td>\n",
       "      <td>46.982957</td>\n",
       "      <td>42.004474</td>\n",
       "      <td>42.708333</td>\n",
       "    </tr>\n",
       "    <tr>\n",
       "      <th>14</th>\n",
       "      <td>88.697227</td>\n",
       "      <td>94.782971</td>\n",
       "      <td>88.143997</td>\n",
       "      <td>92.083333</td>\n",
       "    </tr>\n",
       "    <tr>\n",
       "      <th>15</th>\n",
       "      <td>50.059216</td>\n",
       "      <td>53.880681</td>\n",
       "      <td>48.662582</td>\n",
       "      <td>49.833333</td>\n",
       "    </tr>\n",
       "    <tr>\n",
       "      <th>16</th>\n",
       "      <td>171.574617</td>\n",
       "      <td>182.517173</td>\n",
       "      <td>172.830463</td>\n",
       "      <td>182.708333</td>\n",
       "    </tr>\n",
       "    <tr>\n",
       "      <th>17</th>\n",
       "      <td>196.533095</td>\n",
       "      <td>208.938278</td>\n",
       "      <td>198.333744</td>\n",
       "      <td>210.000000</td>\n",
       "    </tr>\n",
       "    <tr>\n",
       "      <th>18</th>\n",
       "      <td>245.345020</td>\n",
       "      <td>260.610698</td>\n",
       "      <td>248.211152</td>\n",
       "      <td>263.375000</td>\n",
       "    </tr>\n",
       "    <tr>\n",
       "      <th>19</th>\n",
       "      <td>316.333791</td>\n",
       "      <td>335.759580</td>\n",
       "      <td>320.749491</td>\n",
       "      <td>341.000000</td>\n",
       "    </tr>\n",
       "    <tr>\n",
       "      <th>20</th>\n",
       "      <td>69.340117</td>\n",
       "      <td>74.291488</td>\n",
       "      <td>68.364353</td>\n",
       "      <td>70.916667</td>\n",
       "    </tr>\n",
       "    <tr>\n",
       "      <th>21</th>\n",
       "      <td>29.863806</td>\n",
       "      <td>32.501772</td>\n",
       "      <td>28.026340</td>\n",
       "      <td>27.750000</td>\n",
       "    </tr>\n",
       "    <tr>\n",
       "      <th>22</th>\n",
       "      <td>31.921452</td>\n",
       "      <td>34.680000</td>\n",
       "      <td>30.128901</td>\n",
       "      <td>30.000000</td>\n",
       "    </tr>\n",
       "    <tr>\n",
       "      <th>23</th>\n",
       "      <td>46.867348</td>\n",
       "      <td>50.501761</td>\n",
       "      <td>45.401041</td>\n",
       "      <td>46.343080</td>\n",
       "    </tr>\n",
       "    <tr>\n",
       "      <th>24</th>\n",
       "      <td>92.191482</td>\n",
       "      <td>98.481998</td>\n",
       "      <td>91.714526</td>\n",
       "      <td>95.904241</td>\n",
       "    </tr>\n",
       "    <tr>\n",
       "      <th>25</th>\n",
       "      <td>92.191482</td>\n",
       "      <td>98.481998</td>\n",
       "      <td>91.714526</td>\n",
       "      <td>95.904241</td>\n",
       "    </tr>\n",
       "    <tr>\n",
       "      <th>26</th>\n",
       "      <td>145.509074</td>\n",
       "      <td>154.924127</td>\n",
       "      <td>146.195953</td>\n",
       "      <td>154.206111</td>\n",
       "    </tr>\n",
       "    <tr>\n",
       "      <th>27</th>\n",
       "      <td>105.729959</td>\n",
       "      <td>112.813862</td>\n",
       "      <td>105.548526</td>\n",
       "      <td>110.708333</td>\n",
       "    </tr>\n",
       "    <tr>\n",
       "      <th>28</th>\n",
       "      <td>23.805183</td>\n",
       "      <td>26.088099</td>\n",
       "      <td>21.835467</td>\n",
       "      <td>21.125000</td>\n",
       "    </tr>\n",
       "    <tr>\n",
       "      <th>29</th>\n",
       "      <td>27.920474</td>\n",
       "      <td>30.444556</td>\n",
       "      <td>26.040589</td>\n",
       "      <td>25.625000</td>\n",
       "    </tr>\n",
       "    <tr>\n",
       "      <th>30</th>\n",
       "      <td>45.905820</td>\n",
       "      <td>49.483886</td>\n",
       "      <td>44.418525</td>\n",
       "      <td>45.291667</td>\n",
       "    </tr>\n",
       "    <tr>\n",
       "      <th>31</th>\n",
       "      <td>39.618570</td>\n",
       "      <td>42.828188</td>\n",
       "      <td>37.994035</td>\n",
       "      <td>38.416667</td>\n",
       "    </tr>\n",
       "  </tbody>\n",
       "</table>\n",
       "</div>"
      ],
      "text/plain": [
       "      PM_Dongsi  PM_Dongsihuan  PM_Nongzhanguan  PM_US Post\n",
       "day                                                        \n",
       "1     93.452581      99.817000        93.003153   97.283231\n",
       "2    136.480329     145.366277       136.970125  144.333333\n",
       "3     76.160831      81.511912        75.333952   78.375000\n",
       "4     31.273674      33.994261        29.466983   29.291667\n",
       "5     44.305429      47.789708        42.783200   43.541667\n",
       "6     58.785157      63.117983        57.578997   59.375000\n",
       "7     70.749985      75.783978        69.804997   72.458333\n",
       "8    163.915603     174.409323       165.004266  174.333333\n",
       "9     81.990826      87.683560        81.291207   84.750000\n",
       "10    54.860389      58.963214        53.568557   55.083333\n",
       "11    22.700151      24.918309        20.706315   19.916667\n",
       "12    23.233615      25.483035        21.251423   20.500000\n",
       "13    43.543338      46.982957        42.004474   42.708333\n",
       "14    88.697227      94.782971        88.143997   92.083333\n",
       "15    50.059216      53.880681        48.662582   49.833333\n",
       "16   171.574617     182.517173       172.830463  182.708333\n",
       "17   196.533095     208.938278       198.333744  210.000000\n",
       "18   245.345020     260.610698       248.211152  263.375000\n",
       "19   316.333791     335.759580       320.749491  341.000000\n",
       "20    69.340117      74.291488        68.364353   70.916667\n",
       "21    29.863806      32.501772        28.026340   27.750000\n",
       "22    31.921452      34.680000        30.128901   30.000000\n",
       "23    46.867348      50.501761        45.401041   46.343080\n",
       "24    92.191482      98.481998        91.714526   95.904241\n",
       "25    92.191482      98.481998        91.714526   95.904241\n",
       "26   145.509074     154.924127       146.195953  154.206111\n",
       "27   105.729959     112.813862       105.548526  110.708333\n",
       "28    23.805183      26.088099        21.835467   21.125000\n",
       "29    27.920474      30.444556        26.040589   25.625000\n",
       "30    45.905820      49.483886        44.418525   45.291667\n",
       "31    39.618570      42.828188        37.994035   38.416667"
      ]
     },
     "execution_count": 8,
     "metadata": {},
     "output_type": "execute_result"
    }
   ],
   "source": [
    "month_data = year_data[year_data['month'] == 1]\n",
    "month_data.groupby(['day'])[['PM_Dongsi', 'PM_Dongsihuan', 'PM_Nongzhanguan', 'PM_US Post']].mean()"
   ]
  },
  {
   "cell_type": "code",
   "execution_count": 11,
   "id": "7b67fd45-1f9d-486a-8b6c-c595a9329153",
   "metadata": {},
   "outputs": [],
   "source": [
    "day_data = year_data.groupby(['month', 'day'])[['PM_Dongsi', 'PM_Dongsihuan', 'PM_Nongzhanguan', 'PM_US Post']].mean()\n",
    "day_data = day_data.reset_index()"
   ]
  },
  {
   "cell_type": "code",
   "execution_count": 19,
   "id": "7e95c73b-0522-4fc3-a660-95ce6c989a02",
   "metadata": {},
   "outputs": [],
   "source": [
    "day_data['month'].replace({1:'Jan', 2:'Feb', 3:'Mar', 4:'Apr', 5:'May', 6:'Jun', 7:'Jul', 8:'Aug', 9:'Sep', 10:'Oct', 11:'Nov', 12:'Dec'}, inplace=True)"
   ]
  },
  {
   "cell_type": "code",
   "execution_count": 20,
   "id": "19eee8c4-9b62-4d1d-b727-2ce87149fa74",
   "metadata": {},
   "outputs": [
    {
     "data": {
      "text/html": [
       "<div>\n",
       "<style scoped>\n",
       "    .dataframe tbody tr th:only-of-type {\n",
       "        vertical-align: middle;\n",
       "    }\n",
       "\n",
       "    .dataframe tbody tr th {\n",
       "        vertical-align: top;\n",
       "    }\n",
       "\n",
       "    .dataframe thead th {\n",
       "        text-align: right;\n",
       "    }\n",
       "</style>\n",
       "<table border=\"1\" class=\"dataframe\">\n",
       "  <thead>\n",
       "    <tr style=\"text-align: right;\">\n",
       "      <th></th>\n",
       "      <th>month</th>\n",
       "      <th>day</th>\n",
       "      <th>PM_Dongsi</th>\n",
       "      <th>PM_Dongsihuan</th>\n",
       "      <th>PM_Nongzhanguan</th>\n",
       "      <th>PM_US Post</th>\n",
       "    </tr>\n",
       "  </thead>\n",
       "  <tbody>\n",
       "    <tr>\n",
       "      <th>0</th>\n",
       "      <td>Jan</td>\n",
       "      <td>1</td>\n",
       "      <td>93.452581</td>\n",
       "      <td>99.817000</td>\n",
       "      <td>93.003153</td>\n",
       "      <td>97.283231</td>\n",
       "    </tr>\n",
       "    <tr>\n",
       "      <th>1</th>\n",
       "      <td>Jan</td>\n",
       "      <td>2</td>\n",
       "      <td>136.480329</td>\n",
       "      <td>145.366277</td>\n",
       "      <td>136.970125</td>\n",
       "      <td>144.333333</td>\n",
       "    </tr>\n",
       "    <tr>\n",
       "      <th>2</th>\n",
       "      <td>Jan</td>\n",
       "      <td>3</td>\n",
       "      <td>76.160831</td>\n",
       "      <td>81.511912</td>\n",
       "      <td>75.333952</td>\n",
       "      <td>78.375000</td>\n",
       "    </tr>\n",
       "    <tr>\n",
       "      <th>3</th>\n",
       "      <td>Jan</td>\n",
       "      <td>4</td>\n",
       "      <td>31.273674</td>\n",
       "      <td>33.994261</td>\n",
       "      <td>29.466983</td>\n",
       "      <td>29.291667</td>\n",
       "    </tr>\n",
       "    <tr>\n",
       "      <th>4</th>\n",
       "      <td>Jan</td>\n",
       "      <td>5</td>\n",
       "      <td>44.305429</td>\n",
       "      <td>47.789708</td>\n",
       "      <td>42.783200</td>\n",
       "      <td>43.541667</td>\n",
       "    </tr>\n",
       "    <tr>\n",
       "      <th>...</th>\n",
       "      <td>...</td>\n",
       "      <td>...</td>\n",
       "      <td>...</td>\n",
       "      <td>...</td>\n",
       "      <td>...</td>\n",
       "      <td>...</td>\n",
       "    </tr>\n",
       "    <tr>\n",
       "      <th>360</th>\n",
       "      <td>Dec</td>\n",
       "      <td>27</td>\n",
       "      <td>74.903381</td>\n",
       "      <td>80.180773</td>\n",
       "      <td>74.049054</td>\n",
       "      <td>77.000000</td>\n",
       "    </tr>\n",
       "    <tr>\n",
       "      <th>361</th>\n",
       "      <td>Dec</td>\n",
       "      <td>28</td>\n",
       "      <td>32.416811</td>\n",
       "      <td>35.204388</td>\n",
       "      <td>30.635073</td>\n",
       "      <td>30.541667</td>\n",
       "    </tr>\n",
       "    <tr>\n",
       "      <th>362</th>\n",
       "      <td>Dec</td>\n",
       "      <td>29</td>\n",
       "      <td>35.846220</td>\n",
       "      <td>38.834769</td>\n",
       "      <td>34.139340</td>\n",
       "      <td>34.291667</td>\n",
       "    </tr>\n",
       "    <tr>\n",
       "      <th>363</th>\n",
       "      <td>Dec</td>\n",
       "      <td>30</td>\n",
       "      <td>20.680610</td>\n",
       "      <td>22.780419</td>\n",
       "      <td>18.642690</td>\n",
       "      <td>17.708333</td>\n",
       "    </tr>\n",
       "    <tr>\n",
       "      <th>364</th>\n",
       "      <td>Dec</td>\n",
       "      <td>31</td>\n",
       "      <td>24.449312</td>\n",
       "      <td>26.769975</td>\n",
       "      <td>22.493656</td>\n",
       "      <td>21.829343</td>\n",
       "    </tr>\n",
       "  </tbody>\n",
       "</table>\n",
       "<p>365 rows × 6 columns</p>\n",
       "</div>"
      ],
      "text/plain": [
       "    month  day   PM_Dongsi  PM_Dongsihuan  PM_Nongzhanguan  PM_US Post\n",
       "0     Jan    1   93.452581      99.817000        93.003153   97.283231\n",
       "1     Jan    2  136.480329     145.366277       136.970125  144.333333\n",
       "2     Jan    3   76.160831      81.511912        75.333952   78.375000\n",
       "3     Jan    4   31.273674      33.994261        29.466983   29.291667\n",
       "4     Jan    5   44.305429      47.789708        42.783200   43.541667\n",
       "..    ...  ...         ...            ...              ...         ...\n",
       "360   Dec   27   74.903381      80.180773        74.049054   77.000000\n",
       "361   Dec   28   32.416811      35.204388        30.635073   30.541667\n",
       "362   Dec   29   35.846220      38.834769        34.139340   34.291667\n",
       "363   Dec   30   20.680610      22.780419        18.642690   17.708333\n",
       "364   Dec   31   24.449312      26.769975        22.493656   21.829343\n",
       "\n",
       "[365 rows x 6 columns]"
      ]
     },
     "execution_count": 20,
     "metadata": {},
     "output_type": "execute_result"
    }
   ],
   "source": [
    "day_data"
   ]
  },
  {
   "cell_type": "code",
   "execution_count": 23,
   "id": "6a5e012e-0760-4f1b-9437-309a9978f509",
   "metadata": {},
   "outputs": [],
   "source": [
    "season_data = year_data.groupby(['month', 'season'])[['PM_Dongsi', 'PM_Dongsihuan', 'PM_Nongzhanguan', 'PM_US Post']].mean()\n",
    "season_data = season_data.reset_index()"
   ]
  },
  {
   "cell_type": "code",
   "execution_count": 25,
   "id": "57386c0c-7119-4f10-9205-9ceb14f664f0",
   "metadata": {},
   "outputs": [
    {
     "data": {
      "text/plain": [
       "RangeIndex(start=0, stop=12, step=1)"
      ]
     },
     "execution_count": 25,
     "metadata": {},
     "output_type": "execute_result"
    }
   ],
   "source": [
    "season_data['month'].index"
   ]
  },
  {
   "cell_type": "code",
   "execution_count": null,
   "id": "abc0a782-2399-44ad-b7ac-5f34959d96a2",
   "metadata": {},
   "outputs": [],
   "source": []
  }
 ],
 "metadata": {
  "kernelspec": {
   "display_name": "Python 3 (ipykernel)",
   "language": "python",
   "name": "python3"
  },
  "language_info": {
   "codemirror_mode": {
    "name": "ipython",
    "version": 3
   },
   "file_extension": ".py",
   "mimetype": "text/x-python",
   "name": "python",
   "nbconvert_exporter": "python",
   "pygments_lexer": "ipython3",
   "version": "3.11.0"
  }
 },
 "nbformat": 4,
 "nbformat_minor": 5
}
